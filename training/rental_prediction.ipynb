{
 "metadata": {
  "language_info": {
   "codemirror_mode": {
    "name": "ipython",
    "version": 3
   },
   "file_extension": ".py",
   "mimetype": "text/x-python",
   "name": "python",
   "nbconvert_exporter": "python",
   "pygments_lexer": "ipython3",
   "version": "3.8.5"
  },
  "orig_nbformat": 2,
  "kernelspec": {
   "name": "python385jvsc74a57bd0a7672e96ae4814148c9df53f13e13cee1f7b81f4499d63bd6bb607e17576b5f7",
   "display_name": "Python 3.8.5 64-bit (conda)"
  }
 },
 "nbformat": 4,
 "nbformat_minor": 2,
 "cells": [
  {
   "source": [
    "# Data Preparation"
   ],
   "cell_type": "markdown",
   "metadata": {}
  },
  {
   "cell_type": "code",
   "execution_count": 1,
   "metadata": {},
   "outputs": [],
   "source": [
    "# Necessary Imports\n",
    "\n",
    "import numpy as np\n",
    "import pandas as pd\n",
    "import matplotlib.pyplot as plt\n",
    "import seaborn as sns\n",
    "from sklearn.model_selection import train_test_split\n",
    "from sklearn.linear_model import LinearRegression\n",
    "\n",
    "# Will add more imports here later"
   ]
  },
  {
   "cell_type": "code",
   "execution_count": 17,
   "metadata": {},
   "outputs": [],
   "source": [
    "file_path = \"../dataset/rental_prediction/\"\n",
    "\n",
    "file_name = \"/Non-Landed Housing/1-5.csv\"\n",
    "\n",
    "#combining all into one file\n",
    "df1 = pd.read_csv(file_path+\"/Non-Landed Housing/1-5.csv\")\n",
    "df2 = pd.read_csv(file_path+\"/Non-Landed Housing/6-10.csv\")\n",
    "df3 = pd.read_csv(file_path+\"/Non-Landed Housing/11-15.csv\")\n",
    "df4 = pd.read_csv(file_path+\"/Non-Landed Housing/16-20.csv\")\n",
    "df5 = pd.read_csv(file_path+\"/Non-Landed Housing/21-23,24-25.csv\")\n",
    "df6 = pd.read_csv(file_path+\"/Non-Landed Housing/26-27.csv\")\n",
    "\n",
    "df = pd.concat([df1,df2,df3,df4,df5,df6], axis=0, join='inner')\n",
    "\n",
    "df.to_csv(file_path+\"/Non-Landed Housing/Combined.csv\")\n",
    "\n",
    "#didnt need to drop rows cause there is no dupe or null values\n",
    "\n",
    "#df.head()"
   ]
  },
  {
   "cell_type": "code",
   "execution_count": 18,
   "metadata": {},
   "outputs": [
    {
     "output_type": "stream",
     "name": "stdout",
     "text": [
      "<class 'pandas.core.frame.DataFrame'>\nInt64Index: 411059 entries, 0 to 10101\nData columns (total 9 columns):\n #   Column                               Non-Null Count   Dtype \n---  ------                               --------------   ----- \n 0   S/N                                  411059 non-null  int64 \n 1   Building/Project Name                411059 non-null  object\n 2   Street Name                          411059 non-null  object\n 3   Postal District                      411059 non-null  int64 \n 4   Type                                 411059 non-null  object\n 5   No. of Bedroom(for Non-Landed Only)  405289 non-null  object\n 6   Monthly Gross Rent($)                411059 non-null  int64 \n 7   Floor Area (sq ft)                   411059 non-null  object\n 8   Lease Commencement Date              411059 non-null  object\ndtypes: int64(3), object(6)\nmemory usage: 31.4+ MB\n"
     ]
    }
   ],
   "source": [
    "# Check data types of columns\n",
    "df.info()"
   ]
  },
  {
   "cell_type": "code",
   "execution_count": null,
   "metadata": {},
   "outputs": [],
   "source": [
    "# Find out mean, median, standard deviation, etc\n",
    "df.describe()"
   ]
  },
  {
   "cell_type": "code",
   "execution_count": null,
   "metadata": {},
   "outputs": [],
   "source": [
    "# Checks how many rows/columns are there\n",
    "df.shape"
   ]
  },
  {
   "source": [
    "## Check for null/empty values"
   ],
   "cell_type": "markdown",
   "metadata": {}
  },
  {
   "cell_type": "code",
   "execution_count": null,
   "metadata": {},
   "outputs": [],
   "source": [
    "df.isnull().sum()"
   ]
  },
  {
   "cell_type": "code",
   "execution_count": null,
   "metadata": {},
   "outputs": [],
   "source": [
    "# Change which columns to drop later\n",
    "# And change the type of the column\n",
    "\n",
    "df = df.drop(['block','street_name', 'month', 'remaining_lease'], axis=1)\n",
    "df.head()"
   ]
  },
  {
   "cell_type": "code",
   "execution_count": null,
   "metadata": {},
   "outputs": [],
   "source": [
    "df.keys()"
   ]
  },
  {
   "cell_type": "code",
   "execution_count": null,
   "metadata": {},
   "outputs": [],
   "source": [
    "col = \"resale_price\"\n",
    "df[col].hist()\n",
    "plt.suptitle(col)\n",
    "plt.show()"
   ]
  },
  {
   "cell_type": "code",
   "execution_count": null,
   "metadata": {},
   "outputs": [],
   "source": [
    "# Remove month, storey_range column later\n",
    "df = pd.get_dummies(df, columns=['town','flat_type', 'storey_range', 'flat_model'])\n",
    "df.head()"
   ]
  },
  {
   "cell_type": "code",
   "execution_count": null,
   "metadata": {},
   "outputs": [],
   "source": [
    "df.shape"
   ]
  },
  {
   "cell_type": "code",
   "execution_count": null,
   "metadata": {},
   "outputs": [],
   "source": []
  },
  {
   "source": [
    "# Training Model - Regression\n",
    "- We will test the training of model first."
   ],
   "cell_type": "markdown",
   "metadata": {}
  },
  {
   "cell_type": "code",
   "execution_count": null,
   "metadata": {},
   "outputs": [],
   "source": [
    "X = df.drop(['resale_price'], axis=1)\n",
    "y = df['resale_price']\n",
    "\n",
    "print(X)\n",
    "X_train, X_test, y_train, y_test = train_test_split(X, y, test_size=0.2, random_state=42)"
   ]
  },
  {
   "cell_type": "code",
   "execution_count": null,
   "metadata": {},
   "outputs": [],
   "source": [
    "reg = LinearRegression()"
   ]
  },
  {
   "cell_type": "code",
   "execution_count": null,
   "metadata": {},
   "outputs": [],
   "source": [
    "reg.fit(X_train,y_train)"
   ]
  },
  {
   "cell_type": "code",
   "execution_count": null,
   "metadata": {},
   "outputs": [],
   "source": [
    "test = reg.predict(X_test)\n",
    "print(test)\n"
   ]
  },
  {
   "cell_type": "code",
   "execution_count": null,
   "metadata": {},
   "outputs": [],
   "source": []
  }
 ]
}
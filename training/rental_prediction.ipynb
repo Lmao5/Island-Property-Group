{
 "metadata": {
  "language_info": {
   "codemirror_mode": {
    "name": "ipython",
    "version": 3
   },
   "file_extension": ".py",
   "mimetype": "text/x-python",
   "name": "python",
   "nbconvert_exporter": "python",
   "pygments_lexer": "ipython3",
   "version": "3.8.5"
  },
  "orig_nbformat": 2,
  "kernelspec": {
   "name": "python385jvsc74a57bd0a7672e96ae4814148c9df53f13e13cee1f7b81f4499d63bd6bb607e17576b5f7",
   "display_name": "Python 3.8.5 64-bit ('base': conda)"
  }
 },
 "nbformat": 4,
 "nbformat_minor": 2,
 "cells": [
  {
   "source": [
    "# Data Preparation"
   ],
   "cell_type": "markdown",
   "metadata": {}
  },
  {
   "cell_type": "code",
   "execution_count": 79,
   "metadata": {},
   "outputs": [],
   "source": [
    "# Necessary Imports\n",
    "import datetime\n",
    "import numpy as np\n",
    "import pandas as pd\n",
    "import matplotlib.pyplot as plt\n",
    "import seaborn as sns\n",
    "\n",
    "from sklearn.metrics import mean_absolute_error\n",
    "from sklearn.model_selection import train_test_split\n",
    "from sklearn.linear_model import LinearRegression\n",
    "\n",
    "\n",
    "\n",
    "# Will add more imports here later"
   ]
  },
  {
   "cell_type": "code",
   "execution_count": 62,
   "metadata": {},
   "outputs": [],
   "source": [
    "\n",
    "#pre-set file path\n",
    "file_path = \"../dataset/rental-prediction/Non-Landed Housing/\"\n",
    "\n",
    "#combining all into one file for non-landed\n",
    "df1 = pd.read_csv(file_path+\"1-5.csv\")\n",
    "df2 = pd.read_csv(file_path+\"6-10.csv\")\n",
    "df3 = pd.read_csv(file_path+\"11-15.csv\")\n",
    "df4 = pd.read_csv(file_path+\"16-20.csv\")\n",
    "df5 = pd.read_csv(file_path+\"21-23,25-26.csv\")\n",
    "df6 = pd.read_csv(file_path+\"27-28.csv\")\n",
    "\n",
    "df_nonLanded = pd.concat([df1,df2,df3,df4,df5,df6], axis=0, join='inner')\n",
    "df_nonLanded = df_nonLanded.drop([\"S/N\"],axis=1)\n",
    "df_nonLanded = df_nonLanded.drop([\"Building/Project Name\"],axis=1)\n",
    "df_nonLanded = df_nonLanded.drop([\"Street Name\"],axis=1)\n",
    "df_nonLanded = df_nonLanded.drop([\"No. of Bedroom(for Non-Landed Only)\"],axis=1)\n",
    "\n",
    "df_nonLanded = df_nonLanded.replace({'Jan':'1-1'},regex=True)\n",
    "df_nonLanded = df_nonLanded.replace({'Feb':'1-2'},regex=True)\n",
    "df_nonLanded = df_nonLanded.replace({'Mar':'1-3'},regex=True)\n",
    "df_nonLanded = df_nonLanded.replace({'Apr':'1-4'},regex=True)\n",
    "df_nonLanded = df_nonLanded.replace({'May':'1-5'},regex=True)\n",
    "df_nonLanded = df_nonLanded.replace({'Jun':'1-6'},regex=True)\n",
    "df_nonLanded = df_nonLanded.replace({'Jul':'1-7'},regex=True)\n",
    "df_nonLanded = df_nonLanded.replace({'Aug':'1-8'},regex=True)\n",
    "df_nonLanded = df_nonLanded.replace({'Sep':'1-9'},regex=True)\n",
    "df_nonLanded = df_nonLanded.replace({'Oct':'1-10'},regex=True)\n",
    "df_nonLanded = df_nonLanded.replace({'Nov':'1-11'},regex=True)\n",
    "df_nonLanded = df_nonLanded.replace({'Dec':'1-12'},regex=True)\n",
    "\n",
    "df_nonLanded = df_nonLanded.replace({'-':'/'},regex=True)\n",
    "\n",
    "df_nonLanded.to_csv(file_path+\"Non-Landed.csv\")\n",
    "\n",
    "#df_nonLanded.head(50)\n"
   ]
  },
  {
   "cell_type": "code",
   "execution_count": null,
   "metadata": {},
   "outputs": [],
   "source": [
    "#pre-set file path\n",
    "file_path2 = \"../dataset/rental-prediction/Landed Properties/\"\n",
    "\n",
    "#combining all into one file for landed\n",
    "df1 = pd.read_csv(file_path2+\"1-5.csv\")\n",
    "df2 = pd.read_csv(file_path2+\"6-10.csv\")\n",
    "df3 = pd.read_csv(file_path2+\"11-15.csv\")\n",
    "df4 = pd.read_csv(file_path2+\"16-20.csv\")\n",
    "df5 = pd.read_csv(file_path2+\"21-23,25-26.csv\")\n",
    "df6 = pd.read_csv(file_path2+\"27-28.csv\")\n",
    "\n",
    "df_Landed = pd.concat([df1,df2,df3,df4,df5,df6], axis=0, join='inner')\n",
    "df_Landed = df_Landed.drop([\"S/N\"],axis=1)\n",
    "df_Landed = df_Landed.drop([\"Building/Project Name\"],axis=1)\n",
    "df_Landed = df_Landed.drop([\"Street Name\"],axis=1)\n",
    "df_Landed = df_Landed.drop([\"No. of Bedroom(for Non-Landed Only)\"],axis=1)\n",
    "df_Landed.to_csv(file_path2+\"Landed.csv\")\n",
    "\n",
    "#dropped the no of bedrooms as there was no data recorded\n"
   ]
  },
  {
   "cell_type": "code",
   "execution_count": null,
   "metadata": {},
   "outputs": [],
   "source": [
    "file_path3 = \"../dataset/rental-prediction/Executive Condominiums/\"\n",
    "\n",
    "df1 = pd.read_csv(file_path3+\"16-20.csv\")\n",
    "df2 = pd.read_csv(file_path3+\"21-23,25-26.csv\")\n",
    "df3 = pd.read_csv(file_path3+\"27-28.csv\")\n",
    "\n",
    "df_EC = pd.concat([df1,df2,df3], axis=0, join='inner')\n",
    "df_EC = df_EC.drop([\"S/N\"],axis=1)\n",
    "df_EC = df_EC.drop([\"Building/Project Name\"],axis=1)\n",
    "df_EC = df_EC.drop([\"Street Name\"],axis=1)\n",
    "df_EC = df_EC.drop([\"No. of Bedroom(for Non-Landed Only)\"],axis=1)\n",
    "\n",
    "df_EC.to_csv(file_path3+\"Executive Condominiums.csv\")"
   ]
  },
  {
   "cell_type": "code",
   "execution_count": null,
   "metadata": {},
   "outputs": [],
   "source": [
    "df_nonLanded.info()\n"
   ]
  },
  {
   "cell_type": "code",
   "execution_count": null,
   "metadata": {},
   "outputs": [],
   "source": [
    "df_nonLanded.head()"
   ]
  },
  {
   "cell_type": "code",
   "execution_count": 63,
   "metadata": {},
   "outputs": [
    {
     "output_type": "stream",
     "name": "stdout",
     "text": [
      "<class 'pandas.core.frame.DataFrame'>\nInt64Index: 411059 entries, 0 to 10101\nData columns (total 5 columns):\n #   Column                   Non-Null Count   Dtype \n---  ------                   --------------   ----- \n 0   Postal District          411059 non-null  int64 \n 1   Type                     411059 non-null  object\n 2   Monthly Gross Rent($)    411059 non-null  int64 \n 3   Floor Area (sq ft)       411059 non-null  object\n 4   Lease Commencement Date  411059 non-null  int64 \ndtypes: int64(3), object(2)\nmemory usage: 18.8+ MB\n"
     ]
    }
   ],
   "source": [
    "\n",
    "# Convert month column to 'month' type\n",
    "\n",
    "df_nonLanded['Lease Commencement Date'] = pd.to_datetime(df_nonLanded['Lease Commencement Date'])\n",
    "# Convert month to ordinal type\n",
    "df_nonLanded['Lease Commencement Date'] = df_nonLanded['Lease Commencement Date'].map(datetime.datetime.toordinal)\n",
    "\n",
    "\n",
    "# Check data types of columns\n",
    "df_nonLanded.info()\n"
   ]
  },
  {
   "cell_type": "code",
   "execution_count": null,
   "metadata": {},
   "outputs": [],
   "source": [
    "df_Landed.info()\n"
   ]
  },
  {
   "cell_type": "code",
   "execution_count": null,
   "metadata": {},
   "outputs": [],
   "source": [
    "df_EC.info()"
   ]
  },
  {
   "cell_type": "code",
   "execution_count": 64,
   "metadata": {},
   "outputs": [
    {
     "output_type": "execute_result",
     "data": {
      "text/plain": [
       "       Postal District  Monthly Gross Rent($)  Lease Commencement Date\n",
       "count    411059.000000          411059.000000            411059.000000\n",
       "mean         13.085309            3590.266475            736861.506601\n",
       "std           6.397291            2139.177853               533.824179\n",
       "min           1.000000             307.000000            735968.000000\n",
       "25%           9.000000            2350.000000            736338.000000\n",
       "50%          13.000000            3000.000000            736706.000000\n",
       "75%          18.000000            4000.000000            737426.000000\n",
       "max          28.000000          170000.000000            737794.000000"
      ],
      "text/html": "<div>\n<style scoped>\n    .dataframe tbody tr th:only-of-type {\n        vertical-align: middle;\n    }\n\n    .dataframe tbody tr th {\n        vertical-align: top;\n    }\n\n    .dataframe thead th {\n        text-align: right;\n    }\n</style>\n<table border=\"1\" class=\"dataframe\">\n  <thead>\n    <tr style=\"text-align: right;\">\n      <th></th>\n      <th>Postal District</th>\n      <th>Monthly Gross Rent($)</th>\n      <th>Lease Commencement Date</th>\n    </tr>\n  </thead>\n  <tbody>\n    <tr>\n      <th>count</th>\n      <td>411059.000000</td>\n      <td>411059.000000</td>\n      <td>411059.000000</td>\n    </tr>\n    <tr>\n      <th>mean</th>\n      <td>13.085309</td>\n      <td>3590.266475</td>\n      <td>736861.506601</td>\n    </tr>\n    <tr>\n      <th>std</th>\n      <td>6.397291</td>\n      <td>2139.177853</td>\n      <td>533.824179</td>\n    </tr>\n    <tr>\n      <th>min</th>\n      <td>1.000000</td>\n      <td>307.000000</td>\n      <td>735968.000000</td>\n    </tr>\n    <tr>\n      <th>25%</th>\n      <td>9.000000</td>\n      <td>2350.000000</td>\n      <td>736338.000000</td>\n    </tr>\n    <tr>\n      <th>50%</th>\n      <td>13.000000</td>\n      <td>3000.000000</td>\n      <td>736706.000000</td>\n    </tr>\n    <tr>\n      <th>75%</th>\n      <td>18.000000</td>\n      <td>4000.000000</td>\n      <td>737426.000000</td>\n    </tr>\n    <tr>\n      <th>max</th>\n      <td>28.000000</td>\n      <td>170000.000000</td>\n      <td>737794.000000</td>\n    </tr>\n  </tbody>\n</table>\n</div>"
     },
     "metadata": {},
     "execution_count": 64
    }
   ],
   "source": [
    "# Find out mean, median, standard deviation, etc\n",
    "df_nonLanded.describe()"
   ]
  },
  {
   "cell_type": "code",
   "execution_count": 65,
   "metadata": {},
   "outputs": [
    {
     "output_type": "execute_result",
     "data": {
      "text/plain": [
       "(411059, 5)"
      ]
     },
     "metadata": {},
     "execution_count": 65
    }
   ],
   "source": [
    "# Checks how many rows/columns are there\n",
    "df_nonLanded.shape"
   ]
  },
  {
   "source": [
    "## Check for null/empty values"
   ],
   "cell_type": "markdown",
   "metadata": {}
  },
  {
   "cell_type": "code",
   "execution_count": 66,
   "metadata": {},
   "outputs": [
    {
     "output_type": "execute_result",
     "data": {
      "text/plain": [
       "Index(['Postal District', 'Type', 'Monthly Gross Rent($)',\n",
       "       'Floor Area (sq ft)', 'Lease Commencement Date'],\n",
       "      dtype='object')"
      ]
     },
     "metadata": {},
     "execution_count": 66
    }
   ],
   "source": [
    "df_nonLanded.keys()"
   ]
  },
  {
   "cell_type": "code",
   "execution_count": 67,
   "metadata": {},
   "outputs": [
    {
     "output_type": "execute_result",
     "data": {
      "text/plain": [
       "   Postal District  Monthly Gross Rent($)  Lease Commencement Date  \\\n",
       "0                4                   2650                   737794   \n",
       "1                4                   7500                   737794   \n",
       "2                3                   5000                   737794   \n",
       "3                2                   5700                   737794   \n",
       "4                1                   4350                   737794   \n",
       "\n",
       "   Type_Non/landed Properties  Floor Area (sq ft)_1000 to 1100  \\\n",
       "0                           1                                0   \n",
       "1                           1                                0   \n",
       "2                           1                                1   \n",
       "3                           1                                0   \n",
       "4                           1                                0   \n",
       "\n",
       "   Floor Area (sq ft)_1100 to 1200  Floor Area (sq ft)_1200 to 1300  \\\n",
       "0                                0                                0   \n",
       "1                                0                                0   \n",
       "2                                0                                0   \n",
       "3                                0                                0   \n",
       "4                                0                                0   \n",
       "\n",
       "   Floor Area (sq ft)_1300 to 1400  Floor Area (sq ft)_1400 to 1500  \\\n",
       "0                                0                                0   \n",
       "1                                0                                0   \n",
       "2                                0                                0   \n",
       "3                                0                                0   \n",
       "4                                0                                0   \n",
       "\n",
       "   Floor Area (sq ft)_1500 to 1600  ...  Floor Area (sq ft)_2900 to 3000  \\\n",
       "0                                0  ...                                0   \n",
       "1                                0  ...                                0   \n",
       "2                                0  ...                                0   \n",
       "3                                0  ...                                0   \n",
       "4                                0  ...                                0   \n",
       "\n",
       "   Floor Area (sq ft)_300 to 400  Floor Area (sq ft)_400 to 500  \\\n",
       "0                              0                              1   \n",
       "1                              0                              0   \n",
       "2                              0                              0   \n",
       "3                              0                              0   \n",
       "4                              0                              0   \n",
       "\n",
       "   Floor Area (sq ft)_500 to 600  Floor Area (sq ft)_600 to 700  \\\n",
       "0                              0                              0   \n",
       "1                              0                              0   \n",
       "2                              0                              0   \n",
       "3                              0                              0   \n",
       "4                              0                              0   \n",
       "\n",
       "   Floor Area (sq ft)_700 to 800  Floor Area (sq ft)_800 to 900  \\\n",
       "0                              0                              0   \n",
       "1                              0                              0   \n",
       "2                              0                              0   \n",
       "3                              0                              1   \n",
       "4                              0                              0   \n",
       "\n",
       "   Floor Area (sq ft)_900 to 1000  Floor Area (sq ft)_<= 200  \\\n",
       "0                               0                          0   \n",
       "1                               0                          0   \n",
       "2                               0                          0   \n",
       "3                               0                          0   \n",
       "4                               0                          0   \n",
       "\n",
       "   Floor Area (sq ft)_>3000  \n",
       "0                         0  \n",
       "1                         0  \n",
       "2                         0  \n",
       "3                         0  \n",
       "4                         0  \n",
       "\n",
       "[5 rows x 34 columns]"
      ],
      "text/html": "<div>\n<style scoped>\n    .dataframe tbody tr th:only-of-type {\n        vertical-align: middle;\n    }\n\n    .dataframe tbody tr th {\n        vertical-align: top;\n    }\n\n    .dataframe thead th {\n        text-align: right;\n    }\n</style>\n<table border=\"1\" class=\"dataframe\">\n  <thead>\n    <tr style=\"text-align: right;\">\n      <th></th>\n      <th>Postal District</th>\n      <th>Monthly Gross Rent($)</th>\n      <th>Lease Commencement Date</th>\n      <th>Type_Non/landed Properties</th>\n      <th>Floor Area (sq ft)_1000 to 1100</th>\n      <th>Floor Area (sq ft)_1100 to 1200</th>\n      <th>Floor Area (sq ft)_1200 to 1300</th>\n      <th>Floor Area (sq ft)_1300 to 1400</th>\n      <th>Floor Area (sq ft)_1400 to 1500</th>\n      <th>Floor Area (sq ft)_1500 to 1600</th>\n      <th>...</th>\n      <th>Floor Area (sq ft)_2900 to 3000</th>\n      <th>Floor Area (sq ft)_300 to 400</th>\n      <th>Floor Area (sq ft)_400 to 500</th>\n      <th>Floor Area (sq ft)_500 to 600</th>\n      <th>Floor Area (sq ft)_600 to 700</th>\n      <th>Floor Area (sq ft)_700 to 800</th>\n      <th>Floor Area (sq ft)_800 to 900</th>\n      <th>Floor Area (sq ft)_900 to 1000</th>\n      <th>Floor Area (sq ft)_&lt;= 200</th>\n      <th>Floor Area (sq ft)_&gt;3000</th>\n    </tr>\n  </thead>\n  <tbody>\n    <tr>\n      <th>0</th>\n      <td>4</td>\n      <td>2650</td>\n      <td>737794</td>\n      <td>1</td>\n      <td>0</td>\n      <td>0</td>\n      <td>0</td>\n      <td>0</td>\n      <td>0</td>\n      <td>0</td>\n      <td>...</td>\n      <td>0</td>\n      <td>0</td>\n      <td>1</td>\n      <td>0</td>\n      <td>0</td>\n      <td>0</td>\n      <td>0</td>\n      <td>0</td>\n      <td>0</td>\n      <td>0</td>\n    </tr>\n    <tr>\n      <th>1</th>\n      <td>4</td>\n      <td>7500</td>\n      <td>737794</td>\n      <td>1</td>\n      <td>0</td>\n      <td>0</td>\n      <td>0</td>\n      <td>0</td>\n      <td>0</td>\n      <td>0</td>\n      <td>...</td>\n      <td>0</td>\n      <td>0</td>\n      <td>0</td>\n      <td>0</td>\n      <td>0</td>\n      <td>0</td>\n      <td>0</td>\n      <td>0</td>\n      <td>0</td>\n      <td>0</td>\n    </tr>\n    <tr>\n      <th>2</th>\n      <td>3</td>\n      <td>5000</td>\n      <td>737794</td>\n      <td>1</td>\n      <td>1</td>\n      <td>0</td>\n      <td>0</td>\n      <td>0</td>\n      <td>0</td>\n      <td>0</td>\n      <td>...</td>\n      <td>0</td>\n      <td>0</td>\n      <td>0</td>\n      <td>0</td>\n      <td>0</td>\n      <td>0</td>\n      <td>0</td>\n      <td>0</td>\n      <td>0</td>\n      <td>0</td>\n    </tr>\n    <tr>\n      <th>3</th>\n      <td>2</td>\n      <td>5700</td>\n      <td>737794</td>\n      <td>1</td>\n      <td>0</td>\n      <td>0</td>\n      <td>0</td>\n      <td>0</td>\n      <td>0</td>\n      <td>0</td>\n      <td>...</td>\n      <td>0</td>\n      <td>0</td>\n      <td>0</td>\n      <td>0</td>\n      <td>0</td>\n      <td>0</td>\n      <td>1</td>\n      <td>0</td>\n      <td>0</td>\n      <td>0</td>\n    </tr>\n    <tr>\n      <th>4</th>\n      <td>1</td>\n      <td>4350</td>\n      <td>737794</td>\n      <td>1</td>\n      <td>0</td>\n      <td>0</td>\n      <td>0</td>\n      <td>0</td>\n      <td>0</td>\n      <td>0</td>\n      <td>...</td>\n      <td>0</td>\n      <td>0</td>\n      <td>0</td>\n      <td>0</td>\n      <td>0</td>\n      <td>0</td>\n      <td>0</td>\n      <td>0</td>\n      <td>0</td>\n      <td>0</td>\n    </tr>\n  </tbody>\n</table>\n<p>5 rows × 34 columns</p>\n</div>"
     },
     "metadata": {},
     "execution_count": 67
    }
   ],
   "source": [
    "# Remove month, storey_range column later\n",
    "df_nonLanded = pd.get_dummies(df_nonLanded, columns=['Type', 'Floor Area (sq ft)'])\n",
    "df_nonLanded.head()\n",
    "\n"
   ]
  },
  {
   "cell_type": "code",
   "execution_count": 68,
   "metadata": {},
   "outputs": [
    {
     "output_type": "execute_result",
     "data": {
      "text/plain": [
       "(411059, 34)"
      ]
     },
     "metadata": {},
     "execution_count": 68
    }
   ],
   "source": [
    "df_nonLanded.shape"
   ]
  },
  {
   "cell_type": "code",
   "execution_count": null,
   "metadata": {},
   "outputs": [],
   "source": []
  },
  {
   "source": [
    "# Training Model - Regression\n",
    "- We will test the training of model first."
   ],
   "cell_type": "markdown",
   "metadata": {}
  },
  {
   "cell_type": "code",
   "execution_count": 69,
   "metadata": {},
   "outputs": [
    {
     "output_type": "stream",
     "name": "stdout",
     "text": [
      "       Postal District  Lease Commencement Date  Type_Non/landed Properties  \\\n0                    4                   737794                           1   \n1                    4                   737794                           1   \n2                    3                   737794                           1   \n3                    2                   737794                           1   \n4                    1                   737794                           1   \n...                ...                      ...                         ...   \n10097               27                   735968                           1   \n10098               28                   735968                           1   \n10099               27                   735968                           1   \n10100               27                   735968                           1   \n10101               28                   735968                           1   \n\n       Floor Area (sq ft)_1000 to 1100  Floor Area (sq ft)_1100 to 1200  \\\n0                                    0                                0   \n1                                    0                                0   \n2                                    1                                0   \n3                                    0                                0   \n4                                    0                                0   \n...                                ...                              ...   \n10097                                0                                0   \n10098                                0                                1   \n10099                                0                                0   \n10100                                1                                0   \n10101                                0                                0   \n\n       Floor Area (sq ft)_1200 to 1300  Floor Area (sq ft)_1300 to 1400  \\\n0                                    0                                0   \n1                                    0                                0   \n2                                    0                                0   \n3                                    0                                0   \n4                                    0                                0   \n...                                ...                              ...   \n10097                                0                                0   \n10098                                0                                0   \n10099                                0                                0   \n10100                                0                                0   \n10101                                0                                1   \n\n       Floor Area (sq ft)_1400 to 1500  Floor Area (sq ft)_1500 to 1600  \\\n0                                    0                                0   \n1                                    0                                0   \n2                                    0                                0   \n3                                    0                                0   \n4                                    0                                0   \n...                                ...                              ...   \n10097                                0                                0   \n10098                                0                                0   \n10099                                1                                0   \n10100                                0                                0   \n10101                                0                                0   \n\n       Floor Area (sq ft)_1600 to 1700  ...  Floor Area (sq ft)_2900 to 3000  \\\n0                                    0  ...                                0   \n1                                    0  ...                                0   \n2                                    0  ...                                0   \n3                                    0  ...                                0   \n4                                    0  ...                                0   \n...                                ...  ...                              ...   \n10097                                0  ...                                0   \n10098                                0  ...                                0   \n10099                                0  ...                                0   \n10100                                0  ...                                0   \n10101                                0  ...                                0   \n\n       Floor Area (sq ft)_300 to 400  Floor Area (sq ft)_400 to 500  \\\n0                                  0                              1   \n1                                  0                              0   \n2                                  0                              0   \n3                                  0                              0   \n4                                  0                              0   \n...                              ...                            ...   \n10097                              0                              0   \n10098                              0                              0   \n10099                              0                              0   \n10100                              0                              0   \n10101                              0                              0   \n\n       Floor Area (sq ft)_500 to 600  Floor Area (sq ft)_600 to 700  \\\n0                                  0                              0   \n1                                  0                              0   \n2                                  0                              0   \n3                                  0                              0   \n4                                  0                              0   \n...                              ...                            ...   \n10097                              0                              0   \n10098                              0                              0   \n10099                              0                              0   \n10100                              0                              0   \n10101                              0                              0   \n\n       Floor Area (sq ft)_700 to 800  Floor Area (sq ft)_800 to 900  \\\n0                                  0                              0   \n1                                  0                              0   \n2                                  0                              0   \n3                                  0                              1   \n4                                  0                              0   \n...                              ...                            ...   \n10097                              1                              0   \n10098                              0                              0   \n10099                              0                              0   \n10100                              0                              0   \n10101                              0                              0   \n\n       Floor Area (sq ft)_900 to 1000  Floor Area (sq ft)_<= 200  \\\n0                                   0                          0   \n1                                   0                          0   \n2                                   0                          0   \n3                                   0                          0   \n4                                   0                          0   \n...                               ...                        ...   \n10097                               0                          0   \n10098                               0                          0   \n10099                               0                          0   \n10100                               0                          0   \n10101                               0                          0   \n\n       Floor Area (sq ft)_>3000  \n0                             0  \n1                             0  \n2                             0  \n3                             0  \n4                             0  \n...                         ...  \n10097                         0  \n10098                         0  \n10099                         0  \n10100                         0  \n10101                         0  \n\n[411059 rows x 33 columns]\n"
     ]
    }
   ],
   "source": [
    "X = df_nonLanded.drop(['Monthly Gross Rent($)'], axis=1)\n",
    "Y = df_nonLanded['Monthly Gross Rent($)']\n",
    "\n",
    "#print(X)\n",
    "X_train, X_test, y_train, y_test = train_test_split(X, Y, test_size=0.2, random_state=42)"
   ]
  },
  {
   "cell_type": "code",
   "execution_count": 70,
   "metadata": {},
   "outputs": [],
   "source": [
    "reg = LinearRegression()"
   ]
  },
  {
   "cell_type": "code",
   "execution_count": 71,
   "metadata": {},
   "outputs": [
    {
     "output_type": "execute_result",
     "data": {
      "text/plain": [
       "LinearRegression()"
      ]
     },
     "metadata": {},
     "execution_count": 71
    }
   ],
   "source": [
    "reg.fit(X_train,y_train)"
   ]
  },
  {
   "cell_type": "code",
   "execution_count": 72,
   "metadata": {},
   "outputs": [
    {
     "output_type": "stream",
     "name": "stdout",
     "text": [
      "[5734.74317027 2890.417207   2795.01459894 ... 2753.662398   3682.71429824\n 4301.78612613]\n"
     ]
    }
   ],
   "source": [
    "test = reg.predict(X_test)\n",
    "print(test)\n"
   ]
  },
  {
   "cell_type": "code",
   "execution_count": 82,
   "metadata": {},
   "outputs": [
    {
     "output_type": "stream",
     "name": "stdout",
     "text": [
      "Mean Absolute Error on training data: 713.6758\nMean Absolute Error on validation data: 716.7203\n"
     ]
    }
   ],
   "source": [
    "mse = mean_absolute_error(y_train, reg.predict(X_train))\n",
    "print(\"Mean Absolute Error on training data: {:.4f}\".format(mse))\n",
    "\n",
    "mse = mean_absolute_error(y_test, reg.predict(X_test))\n",
    "print(\"Mean Absolute Error on validation data: {:.4f}\".format(mse))"
   ]
  },
  {
   "cell_type": "code",
   "execution_count": null,
   "metadata": {},
   "outputs": [],
   "source": []
  }
 ]
}
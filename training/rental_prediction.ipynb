{
 "metadata": {
  "language_info": {
   "codemirror_mode": {
    "name": "ipython",
    "version": 3
   },
   "file_extension": ".py",
   "mimetype": "text/x-python",
   "name": "python",
   "nbconvert_exporter": "python",
   "pygments_lexer": "ipython3",
   "version": "3.8.5"
  },
  "orig_nbformat": 2,
  "kernelspec": {
   "name": "python385jvsc74a57bd0a7672e96ae4814148c9df53f13e13cee1f7b81f4499d63bd6bb607e17576b5f7",
   "display_name": "Python 3.8.5 64-bit ('base': conda)"
  }
 },
 "nbformat": 4,
 "nbformat_minor": 2,
 "cells": [
  {
   "source": [
    "# Data Preparation"
   ],
   "cell_type": "markdown",
   "metadata": {}
  },
  {
   "cell_type": "code",
   "execution_count": null,
   "metadata": {},
   "outputs": [],
   "source": [
    "# Necessary Imports\n",
    "\n",
    "import numpy as np\n",
    "import pandas as pd\n",
    "import matplotlib.pyplot as plt\n",
    "import seaborn as sns\n",
    "from sklearn.model_selection import train_test_split\n",
    "from sklearn.linear_model import LinearRegression\n",
    "\n",
    "# Will add more imports here later"
   ]
  },
  {
   "cell_type": "code",
   "execution_count": null,
   "metadata": {},
   "outputs": [],
   "source": [
    "#pre-set file path\n",
    "file_path = \"../dataset/rental_prediction/Non-Landed Housing/\"\n",
    "\n",
    "\n",
    "#combining all into one file for non-landed\n",
    "df1 = pd.read_csv(file_path+\"1-5.csv\")\n",
    "df2 = pd.read_csv(file_path+\"6-10.csv\")\n",
    "df3 = pd.read_csv(file_path+\"11-15.csv\")\n",
    "df4 = pd.read_csv(file_path+\"16-20.csv\")\n",
    "df5 = pd.read_csv(file_path+\"21-23,25-26.csv\")\n",
    "df6 = pd.read_csv(file_path+\"27-28.csv\")\n",
    "\n",
    "df_nonLanded = pd.concat([df1,df2,df3,df4,df5,df6], axis=0, join='inner')\n",
    "\n",
    "df_nonLanded.to_csv(file_path+\"Non-Landed.csv\")\n",
    "\n",
    "#didnt need to drop rows cause there is no dupe or null values\n",
    "\n",
    "\n",
    "#df.head()"
   ]
  },
  {
   "cell_type": "code",
   "execution_count": null,
   "metadata": {},
   "outputs": [],
   "source": [
    "#pre-set file path\n",
    "file_path2 = \"../dataset/rental_prediction/Landed Properties/\"\n",
    "file_name2 = \"/Landed Properties/\"\n",
    "\n",
    "#combining all into one file for landed\n",
    "df1 = pd.read_csv(file_path2+\"1-5.csv\")\n",
    "df2 = pd.read_csv(file_path2+\"6-10.csv\")\n",
    "df3 = pd.read_csv(file_path2+\"11-15.csv\")\n",
    "df4 = pd.read_csv(file_path2+\"16-20.csv\")\n",
    "df5 = pd.read_csv(file_path2+\"21-23,25-26.csv\")\n",
    "df6 = pd.read_csv(file_path2+\"27-28.csv\")\n",
    "\n",
    "df_Landed = pd.concat([df1,df2,df3,df4,df5,df6], axis=0, join='inner')\n",
    "df_Landed = df_Landed.drop([\"No. of Bedroom(for Non-Landed Only)\"],axis=1)\n",
    "df_Landed.to_csv(file_path2+\"Landed.csv\")\n",
    "\n",
    "#dropped the no of bedrooms as there was no data recorded\n"
   ]
  },
  {
   "cell_type": "code",
   "execution_count": null,
   "metadata": {},
   "outputs": [],
   "source": [
    "file_path3 = \"../dataset/rental_prediction/Executive Condominiums/\"\n",
    "file_name3 = \"/Executive Condominiums/\"\n",
    "\n",
    "\n",
    "df1 = pd.read_csv(file_path3+\"16-20.csv\")\n",
    "df2 = pd.read_csv(file_path3+\"21-23,25-26.csv\")\n",
    "df3 = pd.read_csv(file_path3+\"27-28.csv\")\n",
    "\n",
    "df_EC = pd.concat([df1,df2,df3], axis=0, join='inner')\n",
    "#df_EC = df_EC.drop([\"No. of Bedroom(for Non-Landed Only)\"],axis=1)\n",
    "df_EC.to_csv(file_path3+\"Executive Condominiums.csv\")"
   ]
  },
  {
   "cell_type": "code",
   "execution_count": null,
   "metadata": {},
   "outputs": [],
   "source": [
    "# Check data types of columns\n",
    "df_nonLanded.info()\n"
   ]
  },
  {
   "cell_type": "code",
   "execution_count": null,
   "metadata": {},
   "outputs": [],
   "source": [
    "df_Landed.info()\n"
   ]
  },
  {
   "cell_type": "code",
   "execution_count": null,
   "metadata": {},
   "outputs": [],
   "source": [
    "df_EC.info()"
   ]
  },
  {
   "cell_type": "code",
   "execution_count": null,
   "metadata": {},
   "outputs": [],
   "source": [
    "# Find out mean, median, standard deviation, etc\n",
    "df_Landed.describe()"
   ]
  },
  {
   "cell_type": "code",
   "execution_count": null,
   "metadata": {},
   "outputs": [],
   "source": [
    "# Checks how many rows/columns are there\n",
    "df_Landed.shape"
   ]
  },
  {
   "source": [
    "## Check for null/empty values"
   ],
   "cell_type": "markdown",
   "metadata": {}
  },
  {
   "cell_type": "code",
   "execution_count": null,
   "metadata": {},
   "outputs": [],
   "source": [
    "df.isnull().sum()"
   ]
  },
  {
   "cell_type": "code",
   "execution_count": null,
   "metadata": {},
   "outputs": [],
   "source": [
    "# Change which columns to drop later\n",
    "# And change the type of the column\n",
    "\n",
    "df = df.drop(['block','street_name', 'month', 'remaining_lease'], axis=1)\n",
    "df.head()"
   ]
  },
  {
   "cell_type": "code",
   "execution_count": null,
   "metadata": {},
   "outputs": [],
   "source": [
    "df.keys()"
   ]
  },
  {
   "cell_type": "code",
   "execution_count": null,
   "metadata": {},
   "outputs": [],
   "source": [
    "col = \"resale_price\"\n",
    "df[col].hist()\n",
    "plt.suptitle(col)\n",
    "plt.show()"
   ]
  },
  {
   "cell_type": "code",
   "execution_count": null,
   "metadata": {},
   "outputs": [],
   "source": [
    "# Remove month, storey_range column later\n",
    "df = pd.get_dummies(df, columns=['town','flat_type', 'storey_range', 'flat_model'])\n",
    "df.head()"
   ]
  },
  {
   "cell_type": "code",
   "execution_count": null,
   "metadata": {},
   "outputs": [],
   "source": [
    "df.shape"
   ]
  },
  {
   "cell_type": "code",
   "execution_count": null,
   "metadata": {},
   "outputs": [],
   "source": []
  },
  {
   "source": [
    "# Training Model - Regression\n",
    "- We will test the training of model first."
   ],
   "cell_type": "markdown",
   "metadata": {}
  },
  {
   "cell_type": "code",
   "execution_count": null,
   "metadata": {},
   "outputs": [],
   "source": [
    "X = df.drop(['resale_price'], axis=1)\n",
    "y = df['resale_price']\n",
    "\n",
    "print(X)\n",
    "X_train, X_test, y_train, y_test = train_test_split(X, y, test_size=0.2, random_state=42)"
   ]
  },
  {
   "cell_type": "code",
   "execution_count": null,
   "metadata": {},
   "outputs": [],
   "source": [
    "reg = LinearRegression()"
   ]
  },
  {
   "cell_type": "code",
   "execution_count": null,
   "metadata": {},
   "outputs": [],
   "source": [
    "reg.fit(X_train,y_train)"
   ]
  },
  {
   "cell_type": "code",
   "execution_count": null,
   "metadata": {},
   "outputs": [],
   "source": [
    "test = reg.predict(X_test)\n",
    "print(test)\n"
   ]
  },
  {
   "cell_type": "code",
   "execution_count": null,
   "metadata": {},
   "outputs": [],
   "source": []
  }
 ]
}
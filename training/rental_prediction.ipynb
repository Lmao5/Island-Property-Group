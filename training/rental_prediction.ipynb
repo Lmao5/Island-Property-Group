{
 "metadata": {
  "language_info": {
   "codemirror_mode": {
    "name": "ipython",
    "version": 3
   },
   "file_extension": ".py",
   "mimetype": "text/x-python",
   "name": "python",
   "nbconvert_exporter": "python",
   "pygments_lexer": "ipython3",
   "version": "3.8.5"
  },
  "orig_nbformat": 2,
  "kernelspec": {
   "name": "python385jvsc74a57bd0a7672e96ae4814148c9df53f13e13cee1f7b81f4499d63bd6bb607e17576b5f7",
   "display_name": "Python 3.8.5 64-bit ('base': conda)"
  }
 },
 "nbformat": 4,
 "nbformat_minor": 2,
 "cells": [
  {
   "source": [
    "# Data Preparation"
   ],
   "cell_type": "markdown",
   "metadata": {}
  },
  {
   "cell_type": "code",
   "execution_count": 1,
   "metadata": {},
   "outputs": [],
   "source": [
    "# Necessary Imports\n",
    "\n",
    "import numpy as np\n",
    "import pandas as pd\n",
    "import matplotlib.pyplot as plt\n",
    "import seaborn as sns\n",
    "from sklearn.model_selection import train_test_split\n",
    "from sklearn.linear_model import LinearRegression\n",
    "\n",
    "# Will add more imports here later"
   ]
  },
  {
   "cell_type": "code",
   "execution_count": 6,
   "metadata": {},
   "outputs": [],
   "source": [
    "#pre-set file path\n",
    "file_path = \"../dataset/rental_prediction/Non-Landed Housing/\"\n",
    "\n",
    "\n",
    "#combining all into one file for non-landed\n",
    "df1 = pd.read_csv(file_path+\"1-5.csv\")\n",
    "df2 = pd.read_csv(file_path+\"6-10.csv\")\n",
    "df3 = pd.read_csv(file_path+\"11-15.csv\")\n",
    "df4 = pd.read_csv(file_path+\"16-20.csv\")\n",
    "df5 = pd.read_csv(file_path+\"21-23,25-26.csv\")\n",
    "df6 = pd.read_csv(file_path+\"27-28.csv\")\n",
    "\n",
    "df_nonLanded = pd.concat([df1,df2,df3,df4,df5,df6], axis=0, join='inner')\n",
    "\n",
    "df_nonLanded.to_csv(file_path+\"Non-Landed.csv\")\n",
    "\n",
    "#didnt need to drop rows cause there is no dupe or null values\n",
    "\n",
    "\n",
    "#df.head()"
   ]
  },
  {
   "cell_type": "code",
   "execution_count": 19,
   "metadata": {},
   "outputs": [],
   "source": [
    "#pre-set file path\n",
    "file_path2 = \"../dataset/rental_prediction/Landed Properties/\"\n",
    "file_name2 = \"/Landed Properties/\"\n",
    "\n",
    "#combining all into one file for landed\n",
    "df1 = pd.read_csv(file_path2+\"1-5.csv\")\n",
    "df2 = pd.read_csv(file_path2+\"6-10.csv\")\n",
    "df3 = pd.read_csv(file_path2+\"11-15.csv\")\n",
    "df4 = pd.read_csv(file_path2+\"16-20.csv\")\n",
    "df5 = pd.read_csv(file_path2+\"21-23,25-26.csv\")\n",
    "df6 = pd.read_csv(file_path2+\"27-28.csv\")\n",
    "\n",
    "df_Landed = pd.concat([df1,df2,df3,df4,df5,df6], axis=0, join='inner')\n",
    "df_Landed = df_Landed.drop([\"No. of Bedroom(for Non-Landed Only)\"],axis=1)\n",
    "df_Landed.to_csv(file_path2+\"Landed.csv\")\n",
    "\n",
    "#dropped the no of bedrooms as there was no data recorded\n"
   ]
  },
  {
   "cell_type": "code",
   "execution_count": 21,
   "metadata": {},
   "outputs": [],
   "source": [
    "file_path3 = \"../dataset/rental_prediction/Executive Condominiums/\"\n",
    "file_name3 = \"/Executive Condominiums/\"\n",
    "\n",
    "\n",
    "df1 = pd.read_csv(file_path3+\"16-20.csv\")\n",
    "df2 = pd.read_csv(file_path3+\"21-23,25-26.csv\")\n",
    "df3 = pd.read_csv(file_path3+\"27-28.csv\")\n",
    "\n",
    "df_EC = pd.concat([df1,df2,df3], axis=0, join='inner')\n",
    "#df_EC = df_EC.drop([\"No. of Bedroom(for Non-Landed Only)\"],axis=1)\n",
    "df_EC.to_csv(file_path3+\"Executive Condominiums.csv\")"
   ]
  },
  {
   "cell_type": "code",
   "execution_count": 14,
   "metadata": {},
   "outputs": [
    {
     "output_type": "stream",
     "name": "stdout",
     "text": [
      "<class 'pandas.core.frame.DataFrame'>\nInt64Index: 411059 entries, 0 to 10101\nData columns (total 9 columns):\n #   Column                               Non-Null Count   Dtype \n---  ------                               --------------   ----- \n 0   S/N                                  411059 non-null  int64 \n 1   Building/Project Name                411059 non-null  object\n 2   Street Name                          411059 non-null  object\n 3   Postal District                      411059 non-null  int64 \n 4   Type                                 411059 non-null  object\n 5   No. of Bedroom(for Non-Landed Only)  405289 non-null  object\n 6   Monthly Gross Rent($)                411059 non-null  int64 \n 7   Floor Area (sq ft)                   411059 non-null  object\n 8   Lease Commencement Date              411059 non-null  object\ndtypes: int64(3), object(6)\nmemory usage: 31.4+ MB\n"
     ]
    }
   ],
   "source": [
    "# Check data types of columns\n",
    "df_nonLanded.info()\n"
   ]
  },
  {
   "cell_type": "code",
   "execution_count": 15,
   "metadata": {},
   "outputs": [
    {
     "output_type": "stream",
     "name": "stdout",
     "text": [
      "<class 'pandas.core.frame.DataFrame'>\nInt64Index: 28919 entries, 0 to 1809\nData columns (total 9 columns):\n #   Column                               Non-Null Count  Dtype \n---  ------                               --------------  ----- \n 0   S/N                                  28919 non-null  int64 \n 1   Building/Project Name                28919 non-null  object\n 2   Street Name                          28919 non-null  object\n 3   Postal District                      28919 non-null  int64 \n 4   Type                                 28919 non-null  object\n 5   No. of Bedroom(for Non-Landed Only)  24400 non-null  object\n 6   Monthly Gross Rent($)                28919 non-null  int64 \n 7   Floor Area (sq ft)                   28919 non-null  object\n 8   Lease Commencement Date              28919 non-null  object\ndtypes: int64(3), object(6)\nmemory usage: 2.2+ MB\n"
     ]
    }
   ],
   "source": [
    "df_Landed.info()\n"
   ]
  },
  {
   "cell_type": "code",
   "execution_count": 16,
   "metadata": {},
   "outputs": [
    {
     "output_type": "stream",
     "name": "stdout",
     "text": [
      "<class 'pandas.core.frame.DataFrame'>\nInt64Index: 7250 entries, 0 to 405\nData columns (total 9 columns):\n #   Column                               Non-Null Count  Dtype \n---  ------                               --------------  ----- \n 0   S/N                                  7250 non-null   int64 \n 1   Building/Project Name                7250 non-null   object\n 2   Street Name                          7250 non-null   object\n 3   Postal District                      7250 non-null   int64 \n 4   Type                                 7250 non-null   object\n 5   No. of Bedroom(for Non-Landed Only)  7249 non-null   object\n 6   Monthly Gross Rent($)                7250 non-null   int64 \n 7   Floor Area (sq ft)                   7250 non-null   object\n 8   Lease Commencement Date              7250 non-null   object\ndtypes: int64(3), object(6)\nmemory usage: 726.4+ KB\n"
     ]
    }
   ],
   "source": [
    "df_EC.info()"
   ]
  },
  {
   "cell_type": "code",
   "execution_count": 23,
   "metadata": {},
   "outputs": [
    {
     "output_type": "execute_result",
     "data": {
      "text/plain": [
       "                S/N  Postal District  Monthly Gross Rent($)\n",
       "count  28919.000000     28919.000000           28919.000000\n",
       "mean    3203.348283        15.490577            7059.585048\n",
       "std     2327.585726         5.961983            5090.737023\n",
       "min        1.000000         1.000000             600.000000\n",
       "25%     1205.500000        10.000000            4000.000000\n",
       "50%     2822.000000        15.000000            5700.000000\n",
       "75%     4853.000000        20.000000            8500.000000\n",
       "max     9247.000000        28.000000          150000.000000"
      ],
      "text/html": "<div>\n<style scoped>\n    .dataframe tbody tr th:only-of-type {\n        vertical-align: middle;\n    }\n\n    .dataframe tbody tr th {\n        vertical-align: top;\n    }\n\n    .dataframe thead th {\n        text-align: right;\n    }\n</style>\n<table border=\"1\" class=\"dataframe\">\n  <thead>\n    <tr style=\"text-align: right;\">\n      <th></th>\n      <th>S/N</th>\n      <th>Postal District</th>\n      <th>Monthly Gross Rent($)</th>\n    </tr>\n  </thead>\n  <tbody>\n    <tr>\n      <th>count</th>\n      <td>28919.000000</td>\n      <td>28919.000000</td>\n      <td>28919.000000</td>\n    </tr>\n    <tr>\n      <th>mean</th>\n      <td>3203.348283</td>\n      <td>15.490577</td>\n      <td>7059.585048</td>\n    </tr>\n    <tr>\n      <th>std</th>\n      <td>2327.585726</td>\n      <td>5.961983</td>\n      <td>5090.737023</td>\n    </tr>\n    <tr>\n      <th>min</th>\n      <td>1.000000</td>\n      <td>1.000000</td>\n      <td>600.000000</td>\n    </tr>\n    <tr>\n      <th>25%</th>\n      <td>1205.500000</td>\n      <td>10.000000</td>\n      <td>4000.000000</td>\n    </tr>\n    <tr>\n      <th>50%</th>\n      <td>2822.000000</td>\n      <td>15.000000</td>\n      <td>5700.000000</td>\n    </tr>\n    <tr>\n      <th>75%</th>\n      <td>4853.000000</td>\n      <td>20.000000</td>\n      <td>8500.000000</td>\n    </tr>\n    <tr>\n      <th>max</th>\n      <td>9247.000000</td>\n      <td>28.000000</td>\n      <td>150000.000000</td>\n    </tr>\n  </tbody>\n</table>\n</div>"
     },
     "metadata": {},
     "execution_count": 23
    }
   ],
   "source": [
    "# Find out mean, median, standard deviation, etc\n",
    "df_Landed.describe()"
   ]
  },
  {
   "cell_type": "code",
   "execution_count": 24,
   "metadata": {},
   "outputs": [
    {
     "output_type": "execute_result",
     "data": {
      "text/plain": [
       "(28919, 8)"
      ]
     },
     "metadata": {},
     "execution_count": 24
    }
   ],
   "source": [
    "# Checks how many rows/columns are there\n",
    "df_Landed.shape"
   ]
  },
  {
   "source": [
    "## Check for null/empty values"
   ],
   "cell_type": "markdown",
   "metadata": {}
  },
  {
   "cell_type": "code",
   "execution_count": null,
   "metadata": {},
   "outputs": [],
   "source": [
    "df.isnull().sum()"
   ]
  },
  {
   "cell_type": "code",
   "execution_count": null,
   "metadata": {},
   "outputs": [],
   "source": [
    "# Change which columns to drop later\n",
    "# And change the type of the column\n",
    "\n",
    "df = df.drop(['block','street_name', 'month', 'remaining_lease'], axis=1)\n",
    "df.head()"
   ]
  },
  {
   "cell_type": "code",
   "execution_count": null,
   "metadata": {},
   "outputs": [],
   "source": [
    "df.keys()"
   ]
  },
  {
   "cell_type": "code",
   "execution_count": null,
   "metadata": {},
   "outputs": [],
   "source": [
    "col = \"resale_price\"\n",
    "df[col].hist()\n",
    "plt.suptitle(col)\n",
    "plt.show()"
   ]
  },
  {
   "cell_type": "code",
   "execution_count": null,
   "metadata": {},
   "outputs": [],
   "source": [
    "# Remove month, storey_range column later\n",
    "df = pd.get_dummies(df, columns=['town','flat_type', 'storey_range', 'flat_model'])\n",
    "df.head()"
   ]
  },
  {
   "cell_type": "code",
   "execution_count": null,
   "metadata": {},
   "outputs": [],
   "source": [
    "df.shape"
   ]
  },
  {
   "cell_type": "code",
   "execution_count": null,
   "metadata": {},
   "outputs": [],
   "source": []
  },
  {
   "source": [
    "# Training Model - Regression\n",
    "- We will test the training of model first."
   ],
   "cell_type": "markdown",
   "metadata": {}
  },
  {
   "cell_type": "code",
   "execution_count": null,
   "metadata": {},
   "outputs": [],
   "source": [
    "X = df.drop(['resale_price'], axis=1)\n",
    "y = df['resale_price']\n",
    "\n",
    "print(X)\n",
    "X_train, X_test, y_train, y_test = train_test_split(X, y, test_size=0.2, random_state=42)"
   ]
  },
  {
   "cell_type": "code",
   "execution_count": null,
   "metadata": {},
   "outputs": [],
   "source": [
    "reg = LinearRegression()"
   ]
  },
  {
   "cell_type": "code",
   "execution_count": null,
   "metadata": {},
   "outputs": [],
   "source": [
    "reg.fit(X_train,y_train)"
   ]
  },
  {
   "cell_type": "code",
   "execution_count": null,
   "metadata": {},
   "outputs": [],
   "source": [
    "test = reg.predict(X_test)\n",
    "print(test)\n"
   ]
  },
  {
   "cell_type": "code",
   "execution_count": null,
   "metadata": {},
   "outputs": [],
   "source": []
  }
 ]
}
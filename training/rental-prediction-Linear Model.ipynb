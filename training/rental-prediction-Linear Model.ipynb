{
 "metadata": {
  "language_info": {
   "codemirror_mode": {
    "name": "ipython",
    "version": 3
   },
   "file_extension": ".py",
   "mimetype": "text/x-python",
   "name": "python",
   "nbconvert_exporter": "python",
   "pygments_lexer": "ipython3",
   "version": "3.8.5"
  },
  "orig_nbformat": 2,
  "kernelspec": {
   "name": "python3",
   "display_name": "Python 3.8.5 64-bit ('base': conda)"
  },
  "interpreter": {
   "hash": "a7672e96ae4814148c9df53f13e13cee1f7b81f4499d63bd6bb607e17576b5f7"
  }
 },
 "nbformat": 4,
 "nbformat_minor": 2,
 "cells": [
  {
   "source": [
    "# Rental Price Prediction using Linear Regression Method\n",
    "This file is dedicated to predicting Rental prices of housing in Singapore.\n",
    "This file would be using the Linear Regression Method to predicting the rental prices."
   ],
   "cell_type": "markdown",
   "metadata": {}
  },
  {
   "source": [
    "## Data Collection\n",
    "- The following codes below in this section is dedicated to reading and combining csv files into 1 dataframe.\n",
    "- We also import all necessary modules in this section as well.\n"
   ],
   "cell_type": "markdown",
   "metadata": {}
  },
  {
   "cell_type": "code",
   "execution_count": 8,
   "metadata": {},
   "outputs": [],
   "source": [
    "# Necessary Imports\n",
    "import datetime\n",
    "import numpy as np\n",
    "import pandas as pd\n",
    "import matplotlib.pyplot as plt\n",
    "import seaborn as sns\n",
    "\n",
    "from sklearn import ensemble\n",
    "from sklearn.metrics import mean_absolute_error\n",
    "from sklearn.model_selection import train_test_split\n",
    "from sklearn.linear_model import LinearRegression\n",
    "\n",
    "# Will add more imports here later"
   ]
  },
  {
   "cell_type": "code",
   "execution_count": 9,
   "metadata": {},
   "outputs": [],
   "source": [
    "\n",
    "#pre-set file path\n",
    "file_path = \"../dataset/rental-prediction/Non-Landed Housing/\"\n",
    "\n",
    "#combining all into one file for non-landed\n",
    "df1 = pd.read_csv(file_path+\"1-5.csv\")\n",
    "df2 = pd.read_csv(file_path+\"6-10.csv\")\n",
    "df3 = pd.read_csv(file_path+\"11-15.csv\")\n",
    "df4 = pd.read_csv(file_path+\"16-20.csv\")\n",
    "df5 = pd.read_csv(file_path+\"21-23,25-26.csv\")\n",
    "df6 = pd.read_csv(file_path+\"27-28.csv\")\n",
    "\n",
    "df_nonLanded = pd.concat([df1,df2,df3,df4,df5,df6], axis=0, join='inner')\n",
    "df_nonLanded = df_nonLanded.drop([\"S/N\"],axis=1)\n",
    "df_nonLanded = df_nonLanded.drop([\"Building/Project Name\"],axis=1)\n",
    "df_nonLanded = df_nonLanded.drop([\"Street Name\"],axis=1)\n",
    "df_nonLanded = df_nonLanded.drop([\"No. of Bedroom(for Non-Landed Only)\"],axis=1)\n",
    "\n",
    "df_nonLanded = df_nonLanded.replace({'Jan':'1-1'},regex=True)\n",
    "df_nonLanded = df_nonLanded.replace({'Feb':'1-2'},regex=True)\n",
    "df_nonLanded = df_nonLanded.replace({'Mar':'1-3'},regex=True)\n",
    "df_nonLanded = df_nonLanded.replace({'Apr':'1-4'},regex=True)\n",
    "df_nonLanded = df_nonLanded.replace({'May':'1-5'},regex=True)\n",
    "df_nonLanded = df_nonLanded.replace({'Jun':'1-6'},regex=True)\n",
    "df_nonLanded = df_nonLanded.replace({'Jul':'1-7'},regex=True)\n",
    "df_nonLanded = df_nonLanded.replace({'Aug':'1-8'},regex=True)\n",
    "df_nonLanded = df_nonLanded.replace({'Sep':'1-9'},regex=True)\n",
    "df_nonLanded = df_nonLanded.replace({'Oct':'1-10'},regex=True)\n",
    "df_nonLanded = df_nonLanded.replace({'Nov':'1-11'},regex=True)\n",
    "df_nonLanded = df_nonLanded.replace({'Dec':'1-12'},regex=True)\n",
    "\n",
    "df_nonLanded = df_nonLanded.replace({'-':'/'},regex=True)\n",
    "\n",
    "#df_nonLanded.to_csv(file_path+\"Non-Landed.csv\")\n",
    "\n",
    "#df_nonLanded.head(50)\n"
   ]
  },
  {
   "cell_type": "code",
   "execution_count": 10,
   "metadata": {},
   "outputs": [],
   "source": [
    "#pre-set file path\n",
    "file_path2 = \"../dataset/rental-prediction/Landed Properties/\"\n",
    "\n",
    "#combining all into one file for landed\n",
    "df1 = pd.read_csv(file_path2+\"1-5.csv\")\n",
    "df2 = pd.read_csv(file_path2+\"6-10.csv\")\n",
    "df3 = pd.read_csv(file_path2+\"11-15.csv\")\n",
    "df4 = pd.read_csv(file_path2+\"16-20.csv\")\n",
    "df5 = pd.read_csv(file_path2+\"21-23,25-26.csv\")\n",
    "df6 = pd.read_csv(file_path2+\"27-28.csv\")\n",
    "\n",
    "df_Landed = pd.concat([df1,df2,df3,df4,df5,df6], axis=0, join='inner')\n",
    "df_Landed = df_Landed.drop([\"S/N\"],axis=1)\n",
    "df_Landed = df_Landed.drop([\"Building/Project Name\"],axis=1)\n",
    "df_Landed = df_Landed.drop([\"Street Name\"],axis=1)\n",
    "df_Landed = df_Landed.drop([\"No. of Bedroom(for Non-Landed Only)\"],axis=1)\n",
    "\n",
    "df_Landed = df_Landed.replace({'Jan':'1-1'},regex=True)\n",
    "df_Landed = df_Landed.replace({'Feb':'1-2'},regex=True)\n",
    "df_Landed = df_Landed.replace({'Mar':'1-3'},regex=True)\n",
    "df_Landed = df_Landed.replace({'Apr':'1-4'},regex=True)\n",
    "df_Landed = df_Landed.replace({'May':'1-5'},regex=True)\n",
    "df_Landed = df_Landed.replace({'Jun':'1-6'},regex=True)\n",
    "df_Landed = df_Landed.replace({'Jul':'1-7'},regex=True)\n",
    "df_Landed = df_Landed.replace({'Aug':'1-8'},regex=True)\n",
    "df_Landed = df_Landed.replace({'Sep':'1-9'},regex=True)\n",
    "df_Landed = df_Landed.replace({'Oct':'1-10'},regex=True)\n",
    "df_Landed = df_Landed.replace({'Nov':'1-11'},regex=True)\n",
    "df_Landed = df_Landed.replace({'Dec':'1-12'},regex=True)\n",
    "\n",
    "df_Landed = df_Landed.replace({'-':'/'},regex=True)\n",
    "\n",
    "#df_Landed.to_csv(file_path2+\"Landed.csv\")\n",
    "\n",
    "#dropped the no of bedrooms as there was no data recorded\n"
   ]
  },
  {
   "cell_type": "code",
   "execution_count": 11,
   "metadata": {},
   "outputs": [],
   "source": [
    "file_path3 = \"../dataset/rental-prediction/Executive Condominiums/\"\n",
    "\n",
    "df1 = pd.read_csv(file_path3+\"16-20.csv\")\n",
    "df2 = pd.read_csv(file_path3+\"21-23,25-26.csv\")\n",
    "df3 = pd.read_csv(file_path3+\"27-28.csv\")\n",
    "\n",
    "df_EC = pd.concat([df1,df2,df3], axis=0, join='inner')\n",
    "df_EC = df_EC.drop([\"S/N\"],axis=1)\n",
    "df_EC = df_EC.drop([\"Building/Project Name\"],axis=1)\n",
    "df_EC = df_EC.drop([\"Street Name\"],axis=1)\n",
    "df_EC = df_EC.drop([\"No. of Bedroom(for Non-Landed Only)\"],axis=1)\n",
    "\n",
    "df_EC = df_EC.replace({'Jan':'1-1'},regex=True)\n",
    "df_EC = df_EC.replace({'Feb':'1-2'},regex=True)\n",
    "df_EC = df_EC.replace({'Mar':'1-3'},regex=True)\n",
    "df_EC = df_EC.replace({'Apr':'1-4'},regex=True)\n",
    "df_EC = df_EC.replace({'May':'1-5'},regex=True)\n",
    "df_EC = df_EC.replace({'Jun':'1-6'},regex=True)\n",
    "df_EC = df_EC.replace({'Jul':'1-7'},regex=True)\n",
    "df_EC = df_EC.replace({'Aug':'1-8'},regex=True)\n",
    "df_EC = df_EC.replace({'Sep':'1-9'},regex=True)\n",
    "df_EC = df_EC.replace({'Oct':'1-10'},regex=True)\n",
    "df_EC = df_EC.replace({'Nov':'1-11'},regex=True)\n",
    "df_EC = df_EC.replace({'Dec':'1-12'},regex=True)\n",
    "\n",
    "df_EC = df_EC.replace({'-':'/'},regex=True)\n",
    "\n",
    "#df_EC.to_csv(file_path3+\"Executive Condominiums.csv\")"
   ]
  },
  {
   "cell_type": "code",
   "execution_count": 12,
   "metadata": {},
   "outputs": [],
   "source": [
    "df = pd.concat([df_nonLanded,df_Landed,df_EC], axis=0, join='inner')"
   ]
  },
  {
   "cell_type": "code",
   "execution_count": 13,
   "metadata": {},
   "outputs": [
    {
     "output_type": "stream",
     "name": "stdout",
     "text": [
      "<class 'pandas.core.frame.DataFrame'>\nInt64Index: 447228 entries, 0 to 405\nData columns (total 5 columns):\n #   Column                   Non-Null Count   Dtype \n---  ------                   --------------   ----- \n 0   Postal District          447228 non-null  int64 \n 1   Type                     447228 non-null  object\n 2   Monthly Gross Rent($)    447228 non-null  int64 \n 3   Floor Area (sq ft)       447228 non-null  object\n 4   Lease Commencement Date  447228 non-null  object\ndtypes: int64(2), object(3)\nmemory usage: 20.5+ MB\n"
     ]
    }
   ],
   "source": [
    "df.info()\n"
   ]
  },
  {
   "cell_type": "code",
   "execution_count": 14,
   "metadata": {},
   "outputs": [
    {
     "output_type": "execute_result",
     "data": {
      "text/plain": [
       "   Postal District                   Type  Monthly Gross Rent($)  \\\n",
       "0                4  Non/landed Properties                   2650   \n",
       "1                4  Non/landed Properties                   7500   \n",
       "2                3  Non/landed Properties                   5000   \n",
       "3                2  Non/landed Properties                   5700   \n",
       "4                1  Non/landed Properties                   4350   \n",
       "\n",
       "  Floor Area (sq ft) Lease Commencement Date  \n",
       "0         400 to 500                  1/4/21  \n",
       "1       1900 to 2000                  1/4/21  \n",
       "2       1000 to 1100                  1/4/21  \n",
       "3         800 to 900                  1/4/21  \n",
       "4       2200 to 2300                  1/4/21  "
      ],
      "text/html": "<div>\n<style scoped>\n    .dataframe tbody tr th:only-of-type {\n        vertical-align: middle;\n    }\n\n    .dataframe tbody tr th {\n        vertical-align: top;\n    }\n\n    .dataframe thead th {\n        text-align: right;\n    }\n</style>\n<table border=\"1\" class=\"dataframe\">\n  <thead>\n    <tr style=\"text-align: right;\">\n      <th></th>\n      <th>Postal District</th>\n      <th>Type</th>\n      <th>Monthly Gross Rent($)</th>\n      <th>Floor Area (sq ft)</th>\n      <th>Lease Commencement Date</th>\n    </tr>\n  </thead>\n  <tbody>\n    <tr>\n      <th>0</th>\n      <td>4</td>\n      <td>Non/landed Properties</td>\n      <td>2650</td>\n      <td>400 to 500</td>\n      <td>1/4/21</td>\n    </tr>\n    <tr>\n      <th>1</th>\n      <td>4</td>\n      <td>Non/landed Properties</td>\n      <td>7500</td>\n      <td>1900 to 2000</td>\n      <td>1/4/21</td>\n    </tr>\n    <tr>\n      <th>2</th>\n      <td>3</td>\n      <td>Non/landed Properties</td>\n      <td>5000</td>\n      <td>1000 to 1100</td>\n      <td>1/4/21</td>\n    </tr>\n    <tr>\n      <th>3</th>\n      <td>2</td>\n      <td>Non/landed Properties</td>\n      <td>5700</td>\n      <td>800 to 900</td>\n      <td>1/4/21</td>\n    </tr>\n    <tr>\n      <th>4</th>\n      <td>1</td>\n      <td>Non/landed Properties</td>\n      <td>4350</td>\n      <td>2200 to 2300</td>\n      <td>1/4/21</td>\n    </tr>\n  </tbody>\n</table>\n</div>"
     },
     "metadata": {},
     "execution_count": 14
    }
   ],
   "source": [
    "df.head()"
   ]
  },
  {
   "cell_type": "code",
   "execution_count": 15,
   "metadata": {},
   "outputs": [
    {
     "output_type": "stream",
     "name": "stdout",
     "text": [
      "<class 'pandas.core.frame.DataFrame'>\nInt64Index: 447228 entries, 0 to 405\nData columns (total 5 columns):\n #   Column                   Non-Null Count   Dtype \n---  ------                   --------------   ----- \n 0   Postal District          447228 non-null  int64 \n 1   Type                     447228 non-null  object\n 2   Monthly Gross Rent($)    447228 non-null  int64 \n 3   Floor Area (sq ft)       447228 non-null  object\n 4   Lease Commencement Date  447228 non-null  int64 \ndtypes: int64(3), object(2)\nmemory usage: 20.5+ MB\n"
     ]
    }
   ],
   "source": [
    "now = pd.to_datetime(\"now\")\n",
    "\n",
    "# Convert month column to 'month' type\n",
    "df['Lease Commencement Date'] = pd.to_datetime(df['Lease Commencement Date'])\n",
    "df['Lease Commencement Date'] = (now - df['Lease Commencement Date']).dt.days\n",
    "# Convert month to ordinal type\n",
    "#df_nonLanded['Lease Commencement Date'] = df_nonLanded['Lease Commencement Date'].map(datetime.datetime.toordinal)\n",
    "\n",
    "\n",
    "# Check data types of columns\n",
    "df.info()\n"
   ]
  },
  {
   "cell_type": "code",
   "execution_count": 16,
   "metadata": {},
   "outputs": [
    {
     "output_type": "execute_result",
     "data": {
      "text/plain": [
       "       Postal District  Monthly Gross Rent($)  Lease Commencement Date\n",
       "count    447228.000000          447228.000000            447228.000000\n",
       "mean         13.374116            3798.413268              1098.550520\n",
       "std           6.437851            2576.042626               534.250061\n",
       "min           1.000000             307.000000               164.000000\n",
       "25%           9.000000            2400.000000               532.000000\n",
       "50%          14.000000            3000.000000              1252.000000\n",
       "75%          19.000000            4250.000000              1620.000000\n",
       "max          28.000000          170000.000000              1990.000000"
      ],
      "text/html": "<div>\n<style scoped>\n    .dataframe tbody tr th:only-of-type {\n        vertical-align: middle;\n    }\n\n    .dataframe tbody tr th {\n        vertical-align: top;\n    }\n\n    .dataframe thead th {\n        text-align: right;\n    }\n</style>\n<table border=\"1\" class=\"dataframe\">\n  <thead>\n    <tr style=\"text-align: right;\">\n      <th></th>\n      <th>Postal District</th>\n      <th>Monthly Gross Rent($)</th>\n      <th>Lease Commencement Date</th>\n    </tr>\n  </thead>\n  <tbody>\n    <tr>\n      <th>count</th>\n      <td>447228.000000</td>\n      <td>447228.000000</td>\n      <td>447228.000000</td>\n    </tr>\n    <tr>\n      <th>mean</th>\n      <td>13.374116</td>\n      <td>3798.413268</td>\n      <td>1098.550520</td>\n    </tr>\n    <tr>\n      <th>std</th>\n      <td>6.437851</td>\n      <td>2576.042626</td>\n      <td>534.250061</td>\n    </tr>\n    <tr>\n      <th>min</th>\n      <td>1.000000</td>\n      <td>307.000000</td>\n      <td>164.000000</td>\n    </tr>\n    <tr>\n      <th>25%</th>\n      <td>9.000000</td>\n      <td>2400.000000</td>\n      <td>532.000000</td>\n    </tr>\n    <tr>\n      <th>50%</th>\n      <td>14.000000</td>\n      <td>3000.000000</td>\n      <td>1252.000000</td>\n    </tr>\n    <tr>\n      <th>75%</th>\n      <td>19.000000</td>\n      <td>4250.000000</td>\n      <td>1620.000000</td>\n    </tr>\n    <tr>\n      <th>max</th>\n      <td>28.000000</td>\n      <td>170000.000000</td>\n      <td>1990.000000</td>\n    </tr>\n  </tbody>\n</table>\n</div>"
     },
     "metadata": {},
     "execution_count": 16
    }
   ],
   "source": [
    "# Find out mean, median, standard deviation, etc\n",
    "df.describe()"
   ]
  },
  {
   "cell_type": "code",
   "execution_count": 17,
   "metadata": {},
   "outputs": [
    {
     "output_type": "execute_result",
     "data": {
      "text/plain": [
       "(447228, 5)"
      ]
     },
     "metadata": {},
     "execution_count": 17
    }
   ],
   "source": [
    "# Checks how many rows/columns are there\n",
    "df.shape"
   ]
  },
  {
   "source": [
    "## Check for null/empty values"
   ],
   "cell_type": "markdown",
   "metadata": {}
  },
  {
   "cell_type": "code",
   "execution_count": 18,
   "metadata": {},
   "outputs": [
    {
     "output_type": "execute_result",
     "data": {
      "text/plain": [
       "Index(['Postal District', 'Type', 'Monthly Gross Rent($)',\n",
       "       'Floor Area (sq ft)', 'Lease Commencement Date'],\n",
       "      dtype='object')"
      ]
     },
     "metadata": {},
     "execution_count": 18
    }
   ],
   "source": [
    "df.keys()"
   ]
  },
  {
   "cell_type": "code",
   "execution_count": 19,
   "metadata": {},
   "outputs": [
    {
     "output_type": "execute_result",
     "data": {
      "text/plain": [
       "   Postal District  Monthly Gross Rent($)  Lease Commencement Date  \\\n",
       "0                4                   2650                      164   \n",
       "1                4                   7500                      164   \n",
       "2                3                   5000                      164   \n",
       "3                2                   5700                      164   \n",
       "4                1                   4350                      164   \n",
       "\n",
       "   Type_Detached House  Type_Executive Condominium  \\\n",
       "0                    0                           0   \n",
       "1                    0                           0   \n",
       "2                    0                           0   \n",
       "3                    0                           0   \n",
       "4                    0                           0   \n",
       "\n",
       "   Type_Non/landed Properties  Type_Semi/Detached House  Type_Terrace House  \\\n",
       "0                           1                         0                   0   \n",
       "1                           1                         0                   0   \n",
       "2                           1                         0                   0   \n",
       "3                           1                         0                   0   \n",
       "4                           1                         0                   0   \n",
       "\n",
       "   Floor Area (sq ft)_1000 to 1100  Floor Area (sq ft)_1000 to 1500  ...  \\\n",
       "0                                0                                0  ...   \n",
       "1                                0                                0  ...   \n",
       "2                                1                                0  ...   \n",
       "3                                0                                0  ...   \n",
       "4                                0                                0  ...   \n",
       "\n",
       "   Floor Area (sq ft)_6500 to 7000  Floor Area (sq ft)_700 to 800  \\\n",
       "0                                0                              0   \n",
       "1                                0                              0   \n",
       "2                                0                              0   \n",
       "3                                0                              0   \n",
       "4                                0                              0   \n",
       "\n",
       "   Floor Area (sq ft)_7000 to 7500  Floor Area (sq ft)_7500 to 8000  \\\n",
       "0                                0                                0   \n",
       "1                                0                                0   \n",
       "2                                0                                0   \n",
       "3                                0                                0   \n",
       "4                                0                                0   \n",
       "\n",
       "   Floor Area (sq ft)_800 to 900  Floor Area (sq ft)_900 to 1000  \\\n",
       "0                              0                               0   \n",
       "1                              0                               0   \n",
       "2                              0                               0   \n",
       "3                              1                               0   \n",
       "4                              0                               0   \n",
       "\n",
       "   Floor Area (sq ft)_<= 1000  Floor Area (sq ft)_<= 200  \\\n",
       "0                           0                          0   \n",
       "1                           0                          0   \n",
       "2                           0                          0   \n",
       "3                           0                          0   \n",
       "4                           0                          0   \n",
       "\n",
       "   Floor Area (sq ft)_>3000  Floor Area (sq ft)_>8000  \n",
       "0                         0                         0  \n",
       "1                         0                         0  \n",
       "2                         0                         0  \n",
       "3                         0                         0  \n",
       "4                         0                         0  \n",
       "\n",
       "[5 rows x 54 columns]"
      ],
      "text/html": "<div>\n<style scoped>\n    .dataframe tbody tr th:only-of-type {\n        vertical-align: middle;\n    }\n\n    .dataframe tbody tr th {\n        vertical-align: top;\n    }\n\n    .dataframe thead th {\n        text-align: right;\n    }\n</style>\n<table border=\"1\" class=\"dataframe\">\n  <thead>\n    <tr style=\"text-align: right;\">\n      <th></th>\n      <th>Postal District</th>\n      <th>Monthly Gross Rent($)</th>\n      <th>Lease Commencement Date</th>\n      <th>Type_Detached House</th>\n      <th>Type_Executive Condominium</th>\n      <th>Type_Non/landed Properties</th>\n      <th>Type_Semi/Detached House</th>\n      <th>Type_Terrace House</th>\n      <th>Floor Area (sq ft)_1000 to 1100</th>\n      <th>Floor Area (sq ft)_1000 to 1500</th>\n      <th>...</th>\n      <th>Floor Area (sq ft)_6500 to 7000</th>\n      <th>Floor Area (sq ft)_700 to 800</th>\n      <th>Floor Area (sq ft)_7000 to 7500</th>\n      <th>Floor Area (sq ft)_7500 to 8000</th>\n      <th>Floor Area (sq ft)_800 to 900</th>\n      <th>Floor Area (sq ft)_900 to 1000</th>\n      <th>Floor Area (sq ft)_&lt;= 1000</th>\n      <th>Floor Area (sq ft)_&lt;= 200</th>\n      <th>Floor Area (sq ft)_&gt;3000</th>\n      <th>Floor Area (sq ft)_&gt;8000</th>\n    </tr>\n  </thead>\n  <tbody>\n    <tr>\n      <th>0</th>\n      <td>4</td>\n      <td>2650</td>\n      <td>164</td>\n      <td>0</td>\n      <td>0</td>\n      <td>1</td>\n      <td>0</td>\n      <td>0</td>\n      <td>0</td>\n      <td>0</td>\n      <td>...</td>\n      <td>0</td>\n      <td>0</td>\n      <td>0</td>\n      <td>0</td>\n      <td>0</td>\n      <td>0</td>\n      <td>0</td>\n      <td>0</td>\n      <td>0</td>\n      <td>0</td>\n    </tr>\n    <tr>\n      <th>1</th>\n      <td>4</td>\n      <td>7500</td>\n      <td>164</td>\n      <td>0</td>\n      <td>0</td>\n      <td>1</td>\n      <td>0</td>\n      <td>0</td>\n      <td>0</td>\n      <td>0</td>\n      <td>...</td>\n      <td>0</td>\n      <td>0</td>\n      <td>0</td>\n      <td>0</td>\n      <td>0</td>\n      <td>0</td>\n      <td>0</td>\n      <td>0</td>\n      <td>0</td>\n      <td>0</td>\n    </tr>\n    <tr>\n      <th>2</th>\n      <td>3</td>\n      <td>5000</td>\n      <td>164</td>\n      <td>0</td>\n      <td>0</td>\n      <td>1</td>\n      <td>0</td>\n      <td>0</td>\n      <td>1</td>\n      <td>0</td>\n      <td>...</td>\n      <td>0</td>\n      <td>0</td>\n      <td>0</td>\n      <td>0</td>\n      <td>0</td>\n      <td>0</td>\n      <td>0</td>\n      <td>0</td>\n      <td>0</td>\n      <td>0</td>\n    </tr>\n    <tr>\n      <th>3</th>\n      <td>2</td>\n      <td>5700</td>\n      <td>164</td>\n      <td>0</td>\n      <td>0</td>\n      <td>1</td>\n      <td>0</td>\n      <td>0</td>\n      <td>0</td>\n      <td>0</td>\n      <td>...</td>\n      <td>0</td>\n      <td>0</td>\n      <td>0</td>\n      <td>0</td>\n      <td>1</td>\n      <td>0</td>\n      <td>0</td>\n      <td>0</td>\n      <td>0</td>\n      <td>0</td>\n    </tr>\n    <tr>\n      <th>4</th>\n      <td>1</td>\n      <td>4350</td>\n      <td>164</td>\n      <td>0</td>\n      <td>0</td>\n      <td>1</td>\n      <td>0</td>\n      <td>0</td>\n      <td>0</td>\n      <td>0</td>\n      <td>...</td>\n      <td>0</td>\n      <td>0</td>\n      <td>0</td>\n      <td>0</td>\n      <td>0</td>\n      <td>0</td>\n      <td>0</td>\n      <td>0</td>\n      <td>0</td>\n      <td>0</td>\n    </tr>\n  </tbody>\n</table>\n<p>5 rows × 54 columns</p>\n</div>"
     },
     "metadata": {},
     "execution_count": 19
    }
   ],
   "source": [
    "# Remove month, storey_range column later\n",
    "df = pd.get_dummies(df, columns=['Type', 'Floor Area (sq ft)'])\n",
    "df.head()\n",
    "\n"
   ]
  },
  {
   "cell_type": "code",
   "execution_count": 20,
   "metadata": {},
   "outputs": [
    {
     "output_type": "execute_result",
     "data": {
      "text/plain": [
       "(447228, 54)"
      ]
     },
     "metadata": {},
     "execution_count": 20
    }
   ],
   "source": [
    "df.shape"
   ]
  },
  {
   "source": [
    "# Training Model - Regression\n",
    "- We will test the training of model first."
   ],
   "cell_type": "markdown",
   "metadata": {}
  },
  {
   "cell_type": "code",
   "execution_count": 21,
   "metadata": {},
   "outputs": [],
   "source": [
    "X = df.drop(['Monthly Gross Rent($)'], axis=1)\n",
    "Y = df['Monthly Gross Rent($)']\n",
    "\n",
    "#print(X)\n",
    "X_train, X_test, y_train, y_test = train_test_split(X, Y, test_size=0.2, random_state=42,shuffle=True)\n",
    "\n",
    "X_validation, X_test, y_validation, y_test = train_test_split(X_test, y_test, test_size=0.5, random_state=42)"
   ]
  },
  {
   "cell_type": "code",
   "execution_count": 22,
   "metadata": {},
   "outputs": [
    {
     "output_type": "stream",
     "name": "stdout",
     "text": [
      "[7074.7941728  4729.62771461 2805.22471185 ... 2769.07312011 3045.56325673\n 3686.74393906]\n"
     ]
    }
   ],
   "source": [
    "reg = LinearRegression()\n",
    "reg.fit(X_train,y_train)\n",
    "test = reg.predict(X_test)\n",
    "print(test)"
   ]
  },
  {
   "cell_type": "code",
   "execution_count": 27,
   "metadata": {},
   "outputs": [
    {
     "output_type": "stream",
     "name": "stdout",
     "text": [
      "Mean Absolute Error on training data: 789.5920\nMean Absolute Error on validation data: 783.2267\n"
     ]
    }
   ],
   "source": [
    "mse = mean_absolute_error(y_train, reg.predict(X_train))\n",
    "print(\"Mean Absolute Error on training data: {:.4f}\".format(mse))\n",
    "\n",
    "mse = mean_absolute_error(y_validation, reg.predict(X_validation))\n",
    "print(\"Mean Absolute Error on validation data: {:.4f}\".format(mse))"
   ]
  },
  {
   "cell_type": "code",
   "execution_count": 24,
   "metadata": {},
   "outputs": [],
   "source": [
    "#helps to improve accuracy of the model by handling the decresing gradient\n",
    "clf = ensemble.GradientBoostingRegressor(n_estimators=400, max_depth=5, min_samples_split=2, learning_rate=0.1, loss='ls')"
   ]
  },
  {
   "cell_type": "code",
   "execution_count": 25,
   "metadata": {},
   "outputs": [
    {
     "output_type": "execute_result",
     "data": {
      "text/plain": [
       "GradientBoostingRegressor(max_depth=5, n_estimators=400)"
      ]
     },
     "metadata": {},
     "execution_count": 25
    }
   ],
   "source": [
    "clf.fit(X_train,y_train)"
   ]
  },
  {
   "cell_type": "code",
   "execution_count": 26,
   "metadata": {},
   "outputs": [
    {
     "output_type": "execute_result",
     "data": {
      "text/plain": [
       "0.7651675615928204"
      ]
     },
     "metadata": {},
     "execution_count": 26
    }
   ],
   "source": [
    "clf.score(X_test,y_test)"
   ]
  },
  {
   "cell_type": "code",
   "execution_count": null,
   "metadata": {},
   "outputs": [],
   "source": []
  }
 ]
}
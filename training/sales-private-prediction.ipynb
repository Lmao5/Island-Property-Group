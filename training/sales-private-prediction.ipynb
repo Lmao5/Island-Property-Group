{
 "metadata": {
  "language_info": {
   "codemirror_mode": {
    "name": "ipython",
    "version": 3
   },
   "file_extension": ".py",
   "mimetype": "text/x-python",
   "name": "python",
   "nbconvert_exporter": "python",
   "pygments_lexer": "ipython3",
   "version": "3.8.5"
  },
  "orig_nbformat": 2,
  "kernelspec": {
   "name": "python3",
   "display_name": "Python 3.8.5 64-bit (conda)"
  },
  "interpreter": {
   "hash": "4b0105c984877f841b31b401163318f58b8713fd45d7fedffddf01718db82bbf"
  }
 },
 "nbformat": 4,
 "nbformat_minor": 2,
 "cells": [
  {
   "source": [
    "# Private Housing Resale Price Prediction\n",
    "This file is dedicated to predicting private housing resale prices."
   ],
   "cell_type": "markdown",
   "metadata": {}
  },
  {
   "source": [
    "## Data Collection\n",
    "- The following codes below in this section is dedicated to reading and combining csv files into 1 dataframe.\n",
    "- We also import all necessary modules in this section as well.\n",
    "- Data is retrieved from Private Residential Property Transactions from https://www.ura.gov.sg/realEstateIIWeb/transaction/search.action ."
   ],
   "cell_type": "markdown",
   "metadata": {}
  },
  {
   "cell_type": "code",
   "execution_count": 1,
   "metadata": {},
   "outputs": [],
   "source": [
    "# Necessary Imports\n",
    "import numpy as np\n",
    "import pandas as pd\n",
    "import matplotlib.pyplot as plt\n",
    "import seaborn as sns\n",
    "import datetime as dt\n",
    "import datetime\n",
    "import glob\n",
    "\n",
    "from sklearn.model_selection import train_test_split\n",
    "from sklearn.linear_model import LinearRegression\n",
    "from sklearn.preprocessing import OneHotEncoder\n",
    "from sklearn.metrics import *"
   ]
  },
  {
   "cell_type": "code",
   "execution_count": 13,
   "metadata": {},
   "outputs": [
    {
     "output_type": "execute_result",
     "data": {
      "text/plain": [
       "  S/N             Project Name       Street Name         Type Postal District  \\\n",
       "0   1                  ECHELON    ALEXANDRA VIEW  Condominium              03   \n",
       "1   2  CARIBBEAN AT KEPPEL BAY  KEPPEL BAY DRIVE  Condominium              04   \n",
       "2   3                  LUMIERE       MISTRI ROAD    Apartment              02   \n",
       "3   4             ASCENTIA SKY    ALEXANDRA VIEW  Condominium              03   \n",
       "4   5            HUNDRED TREES  WEST COAST DRIVE  Condominium              05   \n",
       "\n",
       "  Market Segment                              Tenure Type of Sale  \\\n",
       "0            RCR   99 yrs lease commencing from 2012       Resale   \n",
       "1            RCR   99 yrs lease commencing from 1999       Resale   \n",
       "2            CCR   99 yrs lease commencing from 2006       Resale   \n",
       "3            RCR   99 yrs lease commencing from 2008       Resale   \n",
       "4            OCR  956 yrs lease commencing from 1928       Resale   \n",
       "\n",
       "   No. of Units  Price ($) Nett Price ($)  Area (Sqm) Type of Area  \\\n",
       "0           1.0  2000000.0              -        93.0       Strata   \n",
       "1           1.0  2300000.0              -       141.0       Strata   \n",
       "2           1.0  1251300.0              -        60.0       Strata   \n",
       "3           1.0  2530000.0              -       169.0       Strata   \n",
       "4           1.0  1150000.0              -        73.0       Strata   \n",
       "\n",
       "  Floor Level  Unit Price ($psm) Date of Sale  \n",
       "0    41 to 45            21505.0     May-2021  \n",
       "1    01 to 05            16312.0     May-2021  \n",
       "2    36 to 40            20855.0     May-2021  \n",
       "3    16 to 20            14970.0     May-2021  \n",
       "4    01 to 05            15753.0     May-2021  "
      ],
      "text/html": "<div>\n<style scoped>\n    .dataframe tbody tr th:only-of-type {\n        vertical-align: middle;\n    }\n\n    .dataframe tbody tr th {\n        vertical-align: top;\n    }\n\n    .dataframe thead th {\n        text-align: right;\n    }\n</style>\n<table border=\"1\" class=\"dataframe\">\n  <thead>\n    <tr style=\"text-align: right;\">\n      <th></th>\n      <th>S/N</th>\n      <th>Project Name</th>\n      <th>Street Name</th>\n      <th>Type</th>\n      <th>Postal District</th>\n      <th>Market Segment</th>\n      <th>Tenure</th>\n      <th>Type of Sale</th>\n      <th>No. of Units</th>\n      <th>Price ($)</th>\n      <th>Nett Price ($)</th>\n      <th>Area (Sqm)</th>\n      <th>Type of Area</th>\n      <th>Floor Level</th>\n      <th>Unit Price ($psm)</th>\n      <th>Date of Sale</th>\n    </tr>\n  </thead>\n  <tbody>\n    <tr>\n      <th>0</th>\n      <td>1</td>\n      <td>ECHELON</td>\n      <td>ALEXANDRA VIEW</td>\n      <td>Condominium</td>\n      <td>03</td>\n      <td>RCR</td>\n      <td>99 yrs lease commencing from 2012</td>\n      <td>Resale</td>\n      <td>1.0</td>\n      <td>2000000.0</td>\n      <td>-</td>\n      <td>93.0</td>\n      <td>Strata</td>\n      <td>41 to 45</td>\n      <td>21505.0</td>\n      <td>May-2021</td>\n    </tr>\n    <tr>\n      <th>1</th>\n      <td>2</td>\n      <td>CARIBBEAN AT KEPPEL BAY</td>\n      <td>KEPPEL BAY DRIVE</td>\n      <td>Condominium</td>\n      <td>04</td>\n      <td>RCR</td>\n      <td>99 yrs lease commencing from 1999</td>\n      <td>Resale</td>\n      <td>1.0</td>\n      <td>2300000.0</td>\n      <td>-</td>\n      <td>141.0</td>\n      <td>Strata</td>\n      <td>01 to 05</td>\n      <td>16312.0</td>\n      <td>May-2021</td>\n    </tr>\n    <tr>\n      <th>2</th>\n      <td>3</td>\n      <td>LUMIERE</td>\n      <td>MISTRI ROAD</td>\n      <td>Apartment</td>\n      <td>02</td>\n      <td>CCR</td>\n      <td>99 yrs lease commencing from 2006</td>\n      <td>Resale</td>\n      <td>1.0</td>\n      <td>1251300.0</td>\n      <td>-</td>\n      <td>60.0</td>\n      <td>Strata</td>\n      <td>36 to 40</td>\n      <td>20855.0</td>\n      <td>May-2021</td>\n    </tr>\n    <tr>\n      <th>3</th>\n      <td>4</td>\n      <td>ASCENTIA SKY</td>\n      <td>ALEXANDRA VIEW</td>\n      <td>Condominium</td>\n      <td>03</td>\n      <td>RCR</td>\n      <td>99 yrs lease commencing from 2008</td>\n      <td>Resale</td>\n      <td>1.0</td>\n      <td>2530000.0</td>\n      <td>-</td>\n      <td>169.0</td>\n      <td>Strata</td>\n      <td>16 to 20</td>\n      <td>14970.0</td>\n      <td>May-2021</td>\n    </tr>\n    <tr>\n      <th>4</th>\n      <td>5</td>\n      <td>HUNDRED TREES</td>\n      <td>WEST COAST DRIVE</td>\n      <td>Condominium</td>\n      <td>05</td>\n      <td>OCR</td>\n      <td>956 yrs lease commencing from 1928</td>\n      <td>Resale</td>\n      <td>1.0</td>\n      <td>1150000.0</td>\n      <td>-</td>\n      <td>73.0</td>\n      <td>Strata</td>\n      <td>01 to 05</td>\n      <td>15753.0</td>\n      <td>May-2021</td>\n    </tr>\n  </tbody>\n</table>\n</div>"
     },
     "metadata": {},
     "execution_count": 13
    }
   ],
   "source": [
    "# Read csv files for private housing data\n",
    "privateHouseFile = \"../dataset/sale-prediction/private-housing/*.csv\"\n",
    "all_private_sales = glob.glob(privateHouseFile)\n",
    "\n",
    "listOfPrivate = []\n",
    "for filename in all_private_sales:\n",
    "    df = pd.read_csv(filename, skiprows=1)\n",
    "    listOfPrivate.append(df)\n",
    "\n",
    "privateDf = pd.concat(listOfPrivate, axis=0)\n",
    "privateDf.reset_index(drop=True, inplace=True)\n",
    "privateDf.head()"
   ]
  },
  {
   "source": [
    "### Exploratory Data Analysis (EDA)\n",
    "- In this section, we will examine the data that we have collected earlier.\n",
    "- We will check data types of columns, check any outliers, visualising correlations between features and etc."
   ],
   "cell_type": "markdown",
   "metadata": {}
  },
  {
   "cell_type": "code",
   "execution_count": 14,
   "metadata": {},
   "outputs": [
    {
     "output_type": "execute_result",
     "data": {
      "text/plain": [
       "(63895, 16)"
      ]
     },
     "metadata": {},
     "execution_count": 14
    }
   ],
   "source": [
    "privateDf.shape"
   ]
  },
  {
   "cell_type": "code",
   "execution_count": 15,
   "metadata": {},
   "outputs": [
    {
     "output_type": "stream",
     "name": "stdout",
     "text": [
      "<class 'pandas.core.frame.DataFrame'>\nRangeIndex: 63895 entries, 0 to 63894\nData columns (total 16 columns):\n #   Column             Non-Null Count  Dtype  \n---  ------             --------------  -----  \n 0   S/N                63748 non-null  object \n 1   Project Name       63853 non-null  object \n 2   Street Name        63619 non-null  object \n 3   Type               63618 non-null  object \n 4   Postal District    63618 non-null  object \n 5   Market Segment     63601 non-null  object \n 6   Tenure             63597 non-null  object \n 7   Type of Sale       63601 non-null  object \n 8   No. of Units       63601 non-null  float64\n 9   Price ($)          63601 non-null  float64\n 10  Nett Price ($)     63601 non-null  object \n 11  Area (Sqm)         63601 non-null  float64\n 12  Type of Area       63601 non-null  object \n 13  Floor Level        63601 non-null  object \n 14  Unit Price ($psm)  63601 non-null  float64\n 15  Date of Sale       63601 non-null  object \ndtypes: float64(4), object(12)\nmemory usage: 7.8+ MB\n"
     ]
    }
   ],
   "source": [
    "privateDf.info()"
   ]
  },
  {
   "cell_type": "code",
   "execution_count": 16,
   "metadata": {},
   "outputs": [
    {
     "output_type": "execute_result",
     "data": {
      "text/plain": [
       "       No. of Units     Price ($)    Area (Sqm)  Unit Price ($psm)\n",
       "count  63601.000000  6.360100e+04  63601.000000       63601.000000\n",
       "mean       1.104951  2.349279e+06    164.658873       13938.754139\n",
       "std        4.725084  1.242689e+07    747.378357        5505.148333\n",
       "min        1.000000  4.000000e+04     24.000000         355.000000\n",
       "25%        1.000000  1.005000e+06     89.000000       10194.000000\n",
       "50%        1.000000  1.428000e+06    116.000000       12773.000000\n",
       "75%        1.000000  2.300000e+06    159.000000       16400.000000\n",
       "max      560.000000  9.800000e+08  87986.000000       64848.000000"
      ],
      "text/html": "<div>\n<style scoped>\n    .dataframe tbody tr th:only-of-type {\n        vertical-align: middle;\n    }\n\n    .dataframe tbody tr th {\n        vertical-align: top;\n    }\n\n    .dataframe thead th {\n        text-align: right;\n    }\n</style>\n<table border=\"1\" class=\"dataframe\">\n  <thead>\n    <tr style=\"text-align: right;\">\n      <th></th>\n      <th>No. of Units</th>\n      <th>Price ($)</th>\n      <th>Area (Sqm)</th>\n      <th>Unit Price ($psm)</th>\n    </tr>\n  </thead>\n  <tbody>\n    <tr>\n      <th>count</th>\n      <td>63601.000000</td>\n      <td>6.360100e+04</td>\n      <td>63601.000000</td>\n      <td>63601.000000</td>\n    </tr>\n    <tr>\n      <th>mean</th>\n      <td>1.104951</td>\n      <td>2.349279e+06</td>\n      <td>164.658873</td>\n      <td>13938.754139</td>\n    </tr>\n    <tr>\n      <th>std</th>\n      <td>4.725084</td>\n      <td>1.242689e+07</td>\n      <td>747.378357</td>\n      <td>5505.148333</td>\n    </tr>\n    <tr>\n      <th>min</th>\n      <td>1.000000</td>\n      <td>4.000000e+04</td>\n      <td>24.000000</td>\n      <td>355.000000</td>\n    </tr>\n    <tr>\n      <th>25%</th>\n      <td>1.000000</td>\n      <td>1.005000e+06</td>\n      <td>89.000000</td>\n      <td>10194.000000</td>\n    </tr>\n    <tr>\n      <th>50%</th>\n      <td>1.000000</td>\n      <td>1.428000e+06</td>\n      <td>116.000000</td>\n      <td>12773.000000</td>\n    </tr>\n    <tr>\n      <th>75%</th>\n      <td>1.000000</td>\n      <td>2.300000e+06</td>\n      <td>159.000000</td>\n      <td>16400.000000</td>\n    </tr>\n    <tr>\n      <th>max</th>\n      <td>560.000000</td>\n      <td>9.800000e+08</td>\n      <td>87986.000000</td>\n      <td>64848.000000</td>\n    </tr>\n  </tbody>\n</table>\n</div>"
     },
     "metadata": {},
     "execution_count": 16
    }
   ],
   "source": [
    "# Find out mean, median, standard deviation, etc\n",
    "# Data comes from 1990 to 2021\n",
    "privateDf.describe()"
   ]
  },
  {
   "source": [
    "The following boxplot graphs below will help us to visualise data better instead of using the 'describe' function used earlier."
   ],
   "cell_type": "markdown",
   "metadata": {}
  },
  {
   "cell_type": "code",
   "execution_count": null,
   "metadata": {},
   "outputs": [],
   "source": [
    "# Need to speicfy figure size before displaying boxplot below\n",
    "plt.figure(figsize=[10,5])\n",
    "\n",
    "sns.boxplot(x=\"Market Segment\", y=\"Price ($)\", data=privateDf)\n",
    "# Max value is 10 million dollars\n",
    "plt.ylim(0,10000000)\n",
    "\n",
    "# From the boxplot below, we can tell that the CCR region median is higher than RCR and OCR.\n",
    "# Also we do not intend to drop any outliers as they will increase varibility.\n",
    "# There's actually more data points above 10 million but I've set the limit so that we can see the majority of the values below 10 million dollars."
   ]
  },
  {
   "cell_type": "code",
   "execution_count": null,
   "metadata": {},
   "outputs": [],
   "source": [
    "sns.boxplot(x=\"Market Segment\", y=\"Unit Price ($psm)\", data=privateDf)\n"
   ]
  },
  {
   "cell_type": "code",
   "execution_count": null,
   "metadata": {},
   "outputs": [],
   "source": [
    "plt.figure(figsize=[25,5])\n",
    "\n",
    "sns.boxplot(x=\"Type\", y=\"Price ($)\", data=privateDf)"
   ]
  },
  {
   "cell_type": "code",
   "execution_count": null,
   "metadata": {},
   "outputs": [],
   "source": [
    "# print(privateDf[\"Type\"].keys())"
   ]
  },
  {
   "source": [
    "## Data Preparation\n",
    "- In this section, we will check if our data contains null/empty values and fill in empty data with mean values.\n",
    "- We will also convert column data to correct data types."
   ],
   "cell_type": "markdown",
   "metadata": {}
  },
  {
   "source": [
    "# All some fields are empty\n",
    "# In this case, we drop unnecessary rows\n",
    "privateDf.isnull().sum()"
   ],
   "cell_type": "code",
   "metadata": {},
   "execution_count": null,
   "outputs": []
  },
  {
   "cell_type": "code",
   "execution_count": null,
   "metadata": {},
   "outputs": [],
   "source": [
    "# Drop project name and street name columns as they are irrelevant\n",
    "# Drop S/N since we already have a index column\n",
    "# Drop type of sale because we are only dealing with resale only\n",
    "privateDf = privateDf.drop(['S/N','Project Name','Street Name','Type of Sale'], axis=1)\n",
    "privateDf.head()"
   ]
  },
  {
   "cell_type": "code",
   "execution_count": null,
   "metadata": {},
   "outputs": [],
   "source": [
    "# We drop empty rows here\n",
    "privateDf = privateDf.dropna()\n",
    "privateDf.isnull().sum()"
   ]
  },
  {
   "cell_type": "code",
   "execution_count": null,
   "metadata": {},
   "outputs": [],
   "source": []
  },
  {
   "cell_type": "code",
   "execution_count": null,
   "metadata": {},
   "outputs": [],
   "source": []
  },
  {
   "cell_type": "code",
   "execution_count": null,
   "metadata": {},
   "outputs": [],
   "source": []
  },
  {
   "cell_type": "code",
   "execution_count": null,
   "metadata": {},
   "outputs": [],
   "source": []
  },
  {
   "source": [
    "## Feature Engineering\n",
    "One hot encode columns for flat_models, town, storey_range, flat_type."
   ],
   "cell_type": "markdown",
   "metadata": {}
  },
  {
   "cell_type": "code",
   "execution_count": null,
   "metadata": {},
   "outputs": [],
   "source": [
    "# One hot encode these categorical columns\n",
    "privateDf = pd.get_dummies(privateDf, columns=['Type','Postal District', 'Market Segment', 'flat_model','Type of Area'])\n",
    "privateDf.head()"
   ]
  },
  {
   "cell_type": "code",
   "execution_count": null,
   "metadata": {},
   "outputs": [],
   "source": []
  },
  {
   "source": [
    "## Training Model - Regression\n",
    "- Prob will decide which algo will fit the best for this project (might try xgboost)\n",
    "- Needs to have validation dataset as well"
   ],
   "cell_type": "markdown",
   "metadata": {}
  },
  {
   "cell_type": "code",
   "execution_count": null,
   "metadata": {},
   "outputs": [],
   "source": [
    "# X contains features\n",
    "X = privateDf.drop(['resale_price'], axis=1)\n",
    "\n",
    "# y contains targets to be predicted\n",
    "y = privateDf['resale_price']\n",
    "\n",
    "# 80% training data and 10% data for each test and validation data\n",
    "X_train, X_testTotal, y_train, y_testTotal = train_test_split(X, y, test_size=0.2, random_state=42, shuffle=True)"
   ]
  },
  {
   "source": [
    "#### Linear Regression\n",
    "We will use a simple linear regression alogrithm for this section."
   ],
   "cell_type": "markdown",
   "metadata": {}
  },
  {
   "cell_type": "code",
   "execution_count": null,
   "metadata": {},
   "outputs": [],
   "source": [
    "reg = LinearRegression()\n",
    "reg.fit(X_train,y_train)"
   ]
  },
  {
   "cell_type": "code",
   "execution_count": null,
   "metadata": {},
   "outputs": [],
   "source": [
    "mse = mean_absolute_error(y_train, reg.predict(X_train))\n",
    "print(\"Mean Absolute Error on training data: {:.4f}\".format(mse))\n",
    "\n",
    "mse = mean_absolute_error(y_validation, reg.predict(X_validation))\n",
    "print(\"Mean Absolute Error on validation data: {:.4f}\".format(mse))"
   ]
  },
  {
   "source": [
    "#### XGBoost\n",
    "We will be using XGBoost for this section."
   ],
   "cell_type": "markdown",
   "metadata": {}
  },
  {
   "cell_type": "code",
   "execution_count": null,
   "metadata": {},
   "outputs": [],
   "source": []
  },
  {
   "cell_type": "code",
   "execution_count": null,
   "metadata": {},
   "outputs": [],
   "source": []
  }
 ]
}
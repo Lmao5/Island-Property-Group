{
 "metadata": {
  "language_info": {
   "codemirror_mode": {
    "name": "ipython",
    "version": 3
   },
   "file_extension": ".py",
   "mimetype": "text/x-python",
   "name": "python",
   "nbconvert_exporter": "python",
   "pygments_lexer": "ipython3",
   "version": "3.8.5"
  },
  "orig_nbformat": 2,
  "kernelspec": {
   "name": "python385jvsc74a57bd04b0105c984877f841b31b401163318f58b8713fd45d7fedffddf01718db82bbf",
   "display_name": "Python 3.8.5 64-bit (conda)"
  }
 },
 "nbformat": 4,
 "nbformat_minor": 2,
 "cells": [
  {
   "source": [
    "# Private Housing Resale Price Prediction\n",
    "This file is dedicated to predicting private housing resale prices."
   ],
   "cell_type": "markdown",
   "metadata": {}
  },
  {
   "source": [
    "## Data Collection\n",
    "- The following codes below in this section is dedicated to reading and combining csv files into 1 dataframe.\n",
    "- We also import all necessary modules in this section as well."
   ],
   "cell_type": "markdown",
   "metadata": {}
  },
  {
   "cell_type": "code",
   "execution_count": 10,
   "metadata": {},
   "outputs": [],
   "source": [
    "# Necessary Imports\n",
    "import numpy as np\n",
    "import pandas as pd\n",
    "import matplotlib.pyplot as plt\n",
    "import seaborn as sns\n",
    "import datetime as dt\n",
    "import datetime\n",
    "import glob\n",
    "\n",
    "from sklearn.model_selection import train_test_split\n",
    "from sklearn.linear_model import LinearRegression\n",
    "from sklearn.preprocessing import OneHotEncoder\n",
    "from sklearn.metrics import *"
   ]
  },
  {
   "cell_type": "code",
   "execution_count": 11,
   "metadata": {},
   "outputs": [
    {
     "output_type": "execute_result",
     "data": {
      "text/plain": [
       "     S/N                  Project Name       Street Name         Type  \\\n",
       "0      1                       ECHELON    ALEXANDRA VIEW  Condominium   \n",
       "1      2       CARIBBEAN AT KEPPEL BAY  KEPPEL BAY DRIVE  Condominium   \n",
       "2      3                       LUMIERE       MISTRI ROAD    Apartment   \n",
       "3      4                  ASCENTIA SKY    ALEXANDRA VIEW  Condominium   \n",
       "4      5                 HUNDRED TREES  WEST COAST DRIVE  Condominium   \n",
       "..   ...                           ...               ...          ...   \n",
       "495  496                DOVER PARKVIEW        DOVER RISE  Condominium   \n",
       "496  497                   ONE SHENTON       SHENTON WAY    Apartment   \n",
       "497  498               ALEX RESIDENCES    ALEXANDRA VIEW    Apartment   \n",
       "498  499         MARINA ONE RESIDENCES        MARINA WAY    Apartment   \n",
       "499  500  THE METROPOLITAN CONDOMINIUM    ALEXANDRA VIEW  Condominium   \n",
       "\n",
       "    Postal District Market Segment                              Tenure  \\\n",
       "0                03            RCR   99 yrs lease commencing from 2012   \n",
       "1                04            RCR   99 yrs lease commencing from 1999   \n",
       "2                02            CCR   99 yrs lease commencing from 2006   \n",
       "3                03            RCR   99 yrs lease commencing from 2008   \n",
       "4                05            OCR  956 yrs lease commencing from 1928   \n",
       "..              ...            ...                                 ...   \n",
       "495              05            RCR   99 yrs lease commencing from 1993   \n",
       "496              01            CCR   99 yrs lease commencing from 2005   \n",
       "497              03            RCR   99 yrs lease commencing from 2013   \n",
       "498              01            CCR   99 yrs lease commencing from 2011   \n",
       "499              03            RCR   99 yrs lease commencing from 2006   \n",
       "\n",
       "    Type of Sale  No. of Units  Price ($) Nett Price ($)  Area (Sqm)  \\\n",
       "0         Resale           1.0  2000000.0              -        93.0   \n",
       "1         Resale           1.0  2300000.0              -       141.0   \n",
       "2         Resale           1.0  1251300.0              -        60.0   \n",
       "3         Resale           1.0  2530000.0              -       169.0   \n",
       "4         Resale           1.0  1150000.0              -        73.0   \n",
       "..           ...           ...        ...            ...         ...   \n",
       "495       Resale           1.0  1050000.0              -        87.0   \n",
       "496       Resale           1.0  1390000.0              -        77.0   \n",
       "497       Resale           1.0  1270000.0              -        61.0   \n",
       "498       Resale           1.0  2471812.0              -        96.0   \n",
       "499       Resale           1.0  2200088.0              -       161.0   \n",
       "\n",
       "    Type of Area Floor Level  Unit Price ($psm) Date of Sale  Area (Sqft)  \\\n",
       "0         Strata    41 to 45            21505.0     May-2021          NaN   \n",
       "1         Strata    01 to 05            16312.0     May-2021          NaN   \n",
       "2         Strata    36 to 40            20855.0     May-2021          NaN   \n",
       "3         Strata    16 to 20            14970.0     May-2021          NaN   \n",
       "4         Strata    01 to 05            15753.0     May-2021          NaN   \n",
       "..           ...         ...                ...          ...          ...   \n",
       "495       Strata    11 to 15            12069.0     Mar-2021          NaN   \n",
       "496       Strata    11 to 15            18052.0     Mar-2021          NaN   \n",
       "497       Strata    16 to 20            20820.0     Mar-2021          NaN   \n",
       "498       Strata    31 to 35            25748.0     Mar-2021          NaN   \n",
       "499       Strata    01 to 05            13665.0     Mar-2021          NaN   \n",
       "\n",
       "     Unit Price ($psf)  \n",
       "0                  NaN  \n",
       "1                  NaN  \n",
       "2                  NaN  \n",
       "3                  NaN  \n",
       "4                  NaN  \n",
       "..                 ...  \n",
       "495                NaN  \n",
       "496                NaN  \n",
       "497                NaN  \n",
       "498                NaN  \n",
       "499                NaN  \n",
       "\n",
       "[500 rows x 18 columns]"
      ],
      "text/html": "<div>\n<style scoped>\n    .dataframe tbody tr th:only-of-type {\n        vertical-align: middle;\n    }\n\n    .dataframe tbody tr th {\n        vertical-align: top;\n    }\n\n    .dataframe thead th {\n        text-align: right;\n    }\n</style>\n<table border=\"1\" class=\"dataframe\">\n  <thead>\n    <tr style=\"text-align: right;\">\n      <th></th>\n      <th>S/N</th>\n      <th>Project Name</th>\n      <th>Street Name</th>\n      <th>Type</th>\n      <th>Postal District</th>\n      <th>Market Segment</th>\n      <th>Tenure</th>\n      <th>Type of Sale</th>\n      <th>No. of Units</th>\n      <th>Price ($)</th>\n      <th>Nett Price ($)</th>\n      <th>Area (Sqm)</th>\n      <th>Type of Area</th>\n      <th>Floor Level</th>\n      <th>Unit Price ($psm)</th>\n      <th>Date of Sale</th>\n      <th>Area (Sqft)</th>\n      <th>Unit Price ($psf)</th>\n    </tr>\n  </thead>\n  <tbody>\n    <tr>\n      <th>0</th>\n      <td>1</td>\n      <td>ECHELON</td>\n      <td>ALEXANDRA VIEW</td>\n      <td>Condominium</td>\n      <td>03</td>\n      <td>RCR</td>\n      <td>99 yrs lease commencing from 2012</td>\n      <td>Resale</td>\n      <td>1.0</td>\n      <td>2000000.0</td>\n      <td>-</td>\n      <td>93.0</td>\n      <td>Strata</td>\n      <td>41 to 45</td>\n      <td>21505.0</td>\n      <td>May-2021</td>\n      <td>NaN</td>\n      <td>NaN</td>\n    </tr>\n    <tr>\n      <th>1</th>\n      <td>2</td>\n      <td>CARIBBEAN AT KEPPEL BAY</td>\n      <td>KEPPEL BAY DRIVE</td>\n      <td>Condominium</td>\n      <td>04</td>\n      <td>RCR</td>\n      <td>99 yrs lease commencing from 1999</td>\n      <td>Resale</td>\n      <td>1.0</td>\n      <td>2300000.0</td>\n      <td>-</td>\n      <td>141.0</td>\n      <td>Strata</td>\n      <td>01 to 05</td>\n      <td>16312.0</td>\n      <td>May-2021</td>\n      <td>NaN</td>\n      <td>NaN</td>\n    </tr>\n    <tr>\n      <th>2</th>\n      <td>3</td>\n      <td>LUMIERE</td>\n      <td>MISTRI ROAD</td>\n      <td>Apartment</td>\n      <td>02</td>\n      <td>CCR</td>\n      <td>99 yrs lease commencing from 2006</td>\n      <td>Resale</td>\n      <td>1.0</td>\n      <td>1251300.0</td>\n      <td>-</td>\n      <td>60.0</td>\n      <td>Strata</td>\n      <td>36 to 40</td>\n      <td>20855.0</td>\n      <td>May-2021</td>\n      <td>NaN</td>\n      <td>NaN</td>\n    </tr>\n    <tr>\n      <th>3</th>\n      <td>4</td>\n      <td>ASCENTIA SKY</td>\n      <td>ALEXANDRA VIEW</td>\n      <td>Condominium</td>\n      <td>03</td>\n      <td>RCR</td>\n      <td>99 yrs lease commencing from 2008</td>\n      <td>Resale</td>\n      <td>1.0</td>\n      <td>2530000.0</td>\n      <td>-</td>\n      <td>169.0</td>\n      <td>Strata</td>\n      <td>16 to 20</td>\n      <td>14970.0</td>\n      <td>May-2021</td>\n      <td>NaN</td>\n      <td>NaN</td>\n    </tr>\n    <tr>\n      <th>4</th>\n      <td>5</td>\n      <td>HUNDRED TREES</td>\n      <td>WEST COAST DRIVE</td>\n      <td>Condominium</td>\n      <td>05</td>\n      <td>OCR</td>\n      <td>956 yrs lease commencing from 1928</td>\n      <td>Resale</td>\n      <td>1.0</td>\n      <td>1150000.0</td>\n      <td>-</td>\n      <td>73.0</td>\n      <td>Strata</td>\n      <td>01 to 05</td>\n      <td>15753.0</td>\n      <td>May-2021</td>\n      <td>NaN</td>\n      <td>NaN</td>\n    </tr>\n    <tr>\n      <th>...</th>\n      <td>...</td>\n      <td>...</td>\n      <td>...</td>\n      <td>...</td>\n      <td>...</td>\n      <td>...</td>\n      <td>...</td>\n      <td>...</td>\n      <td>...</td>\n      <td>...</td>\n      <td>...</td>\n      <td>...</td>\n      <td>...</td>\n      <td>...</td>\n      <td>...</td>\n      <td>...</td>\n      <td>...</td>\n      <td>...</td>\n    </tr>\n    <tr>\n      <th>495</th>\n      <td>496</td>\n      <td>DOVER PARKVIEW</td>\n      <td>DOVER RISE</td>\n      <td>Condominium</td>\n      <td>05</td>\n      <td>RCR</td>\n      <td>99 yrs lease commencing from 1993</td>\n      <td>Resale</td>\n      <td>1.0</td>\n      <td>1050000.0</td>\n      <td>-</td>\n      <td>87.0</td>\n      <td>Strata</td>\n      <td>11 to 15</td>\n      <td>12069.0</td>\n      <td>Mar-2021</td>\n      <td>NaN</td>\n      <td>NaN</td>\n    </tr>\n    <tr>\n      <th>496</th>\n      <td>497</td>\n      <td>ONE SHENTON</td>\n      <td>SHENTON WAY</td>\n      <td>Apartment</td>\n      <td>01</td>\n      <td>CCR</td>\n      <td>99 yrs lease commencing from 2005</td>\n      <td>Resale</td>\n      <td>1.0</td>\n      <td>1390000.0</td>\n      <td>-</td>\n      <td>77.0</td>\n      <td>Strata</td>\n      <td>11 to 15</td>\n      <td>18052.0</td>\n      <td>Mar-2021</td>\n      <td>NaN</td>\n      <td>NaN</td>\n    </tr>\n    <tr>\n      <th>497</th>\n      <td>498</td>\n      <td>ALEX RESIDENCES</td>\n      <td>ALEXANDRA VIEW</td>\n      <td>Apartment</td>\n      <td>03</td>\n      <td>RCR</td>\n      <td>99 yrs lease commencing from 2013</td>\n      <td>Resale</td>\n      <td>1.0</td>\n      <td>1270000.0</td>\n      <td>-</td>\n      <td>61.0</td>\n      <td>Strata</td>\n      <td>16 to 20</td>\n      <td>20820.0</td>\n      <td>Mar-2021</td>\n      <td>NaN</td>\n      <td>NaN</td>\n    </tr>\n    <tr>\n      <th>498</th>\n      <td>499</td>\n      <td>MARINA ONE RESIDENCES</td>\n      <td>MARINA WAY</td>\n      <td>Apartment</td>\n      <td>01</td>\n      <td>CCR</td>\n      <td>99 yrs lease commencing from 2011</td>\n      <td>Resale</td>\n      <td>1.0</td>\n      <td>2471812.0</td>\n      <td>-</td>\n      <td>96.0</td>\n      <td>Strata</td>\n      <td>31 to 35</td>\n      <td>25748.0</td>\n      <td>Mar-2021</td>\n      <td>NaN</td>\n      <td>NaN</td>\n    </tr>\n    <tr>\n      <th>499</th>\n      <td>500</td>\n      <td>THE METROPOLITAN CONDOMINIUM</td>\n      <td>ALEXANDRA VIEW</td>\n      <td>Condominium</td>\n      <td>03</td>\n      <td>RCR</td>\n      <td>99 yrs lease commencing from 2006</td>\n      <td>Resale</td>\n      <td>1.0</td>\n      <td>2200088.0</td>\n      <td>-</td>\n      <td>161.0</td>\n      <td>Strata</td>\n      <td>01 to 05</td>\n      <td>13665.0</td>\n      <td>Mar-2021</td>\n      <td>NaN</td>\n      <td>NaN</td>\n    </tr>\n  </tbody>\n</table>\n<p>500 rows × 18 columns</p>\n</div>"
     },
     "metadata": {},
     "execution_count": 11
    }
   ],
   "source": [
    "# Read csv files for private housing data\n",
    "privateHouseFile = \"../dataset/sale-prediction/private-housing/*.csv\"\n",
    "all_private_sales = glob.glob(privateHouseFile)\n",
    "\n",
    "listOfPrivate = []\n",
    "for filename in all_private_sales:\n",
    "    df = pd.read_csv(filename, skiprows=1)\n",
    "    listOfPrivate.append(df)\n",
    "\n",
    "privateDf = pd.concat(listOfPrivate, axis=0)\n",
    "privateDf.reset_index(drop=True, inplace=True)\n",
    "privateDf.head(500)"
   ]
  },
  {
   "source": [
    "### Exploratory Data Analysis (EDA)"
   ],
   "cell_type": "markdown",
   "metadata": {}
  },
  {
   "cell_type": "code",
   "execution_count": 12,
   "metadata": {},
   "outputs": [
    {
     "output_type": "execute_result",
     "data": {
      "text/plain": [
       "(63896, 18)"
      ]
     },
     "metadata": {},
     "execution_count": 12
    }
   ],
   "source": [
    "privateDf.shape"
   ]
  },
  {
   "cell_type": "code",
   "execution_count": 13,
   "metadata": {},
   "outputs": [
    {
     "output_type": "stream",
     "name": "stdout",
     "text": [
      "<class 'pandas.core.frame.DataFrame'>\nRangeIndex: 63896 entries, 0 to 63895\nData columns (total 18 columns):\n #   Column             Non-Null Count  Dtype  \n---  ------             --------------  -----  \n 0   S/N                63749 non-null  object \n 1   Project Name       63854 non-null  object \n 2   Street Name        63620 non-null  object \n 3   Type               63619 non-null  object \n 4   Postal District    63619 non-null  object \n 5   Market Segment     63602 non-null  object \n 6   Tenure             63598 non-null  object \n 7   Type of Sale       63602 non-null  object \n 8   No. of Units       63602 non-null  float64\n 9   Price ($)          63602 non-null  float64\n 10  Nett Price ($)     63602 non-null  object \n 11  Area (Sqm)         63384 non-null  float64\n 12  Type of Area       63602 non-null  object \n 13  Floor Level        63602 non-null  object \n 14  Unit Price ($psm)  63384 non-null  float64\n 15  Date of Sale       63602 non-null  object \n 16  Area (Sqft)        218 non-null    float64\n 17  Unit Price ($psf)  218 non-null    float64\ndtypes: float64(6), object(12)\nmemory usage: 8.8+ MB\n"
     ]
    }
   ],
   "source": [
    "privateDf.info()"
   ]
  },
  {
   "cell_type": "code",
   "execution_count": 14,
   "metadata": {},
   "outputs": [
    {
     "output_type": "execute_result",
     "data": {
      "text/plain": [
       "       No. of Units     Price ($)    Area (Sqm)  Unit Price ($psm)  \\\n",
       "count  63602.000000  6.360200e+04  63384.000000        63384.00000   \n",
       "mean       1.104950  2.349265e+06    164.181954        13965.37205   \n",
       "std        4.725047  1.242680e+07    748.609074         5495.03214   \n",
       "min        1.000000  4.000000e+04     24.000000          355.00000   \n",
       "25%        1.000000  1.005000e+06     89.000000        10219.75000   \n",
       "50%        1.000000  1.428000e+06    116.000000        12796.00000   \n",
       "75%        1.000000  2.300000e+06    158.000000        16415.00000   \n",
       "max      560.000000  9.800000e+08  87986.000000        64848.00000   \n",
       "\n",
       "       Area (Sqft)  Unit Price ($psf)  \n",
       "count   218.000000         218.000000  \n",
       "mean   3271.903670         572.110092  \n",
       "std     392.384892         136.581661  \n",
       "min    1528.000000         337.000000  \n",
       "25%    3014.000000         458.000000  \n",
       "50%    3283.000000         526.500000  \n",
       "75%    3423.000000         659.500000  \n",
       "max    5113.000000        1145.000000  "
      ],
      "text/html": "<div>\n<style scoped>\n    .dataframe tbody tr th:only-of-type {\n        vertical-align: middle;\n    }\n\n    .dataframe tbody tr th {\n        vertical-align: top;\n    }\n\n    .dataframe thead th {\n        text-align: right;\n    }\n</style>\n<table border=\"1\" class=\"dataframe\">\n  <thead>\n    <tr style=\"text-align: right;\">\n      <th></th>\n      <th>No. of Units</th>\n      <th>Price ($)</th>\n      <th>Area (Sqm)</th>\n      <th>Unit Price ($psm)</th>\n      <th>Area (Sqft)</th>\n      <th>Unit Price ($psf)</th>\n    </tr>\n  </thead>\n  <tbody>\n    <tr>\n      <th>count</th>\n      <td>63602.000000</td>\n      <td>6.360200e+04</td>\n      <td>63384.000000</td>\n      <td>63384.00000</td>\n      <td>218.000000</td>\n      <td>218.000000</td>\n    </tr>\n    <tr>\n      <th>mean</th>\n      <td>1.104950</td>\n      <td>2.349265e+06</td>\n      <td>164.181954</td>\n      <td>13965.37205</td>\n      <td>3271.903670</td>\n      <td>572.110092</td>\n    </tr>\n    <tr>\n      <th>std</th>\n      <td>4.725047</td>\n      <td>1.242680e+07</td>\n      <td>748.609074</td>\n      <td>5495.03214</td>\n      <td>392.384892</td>\n      <td>136.581661</td>\n    </tr>\n    <tr>\n      <th>min</th>\n      <td>1.000000</td>\n      <td>4.000000e+04</td>\n      <td>24.000000</td>\n      <td>355.00000</td>\n      <td>1528.000000</td>\n      <td>337.000000</td>\n    </tr>\n    <tr>\n      <th>25%</th>\n      <td>1.000000</td>\n      <td>1.005000e+06</td>\n      <td>89.000000</td>\n      <td>10219.75000</td>\n      <td>3014.000000</td>\n      <td>458.000000</td>\n    </tr>\n    <tr>\n      <th>50%</th>\n      <td>1.000000</td>\n      <td>1.428000e+06</td>\n      <td>116.000000</td>\n      <td>12796.00000</td>\n      <td>3283.000000</td>\n      <td>526.500000</td>\n    </tr>\n    <tr>\n      <th>75%</th>\n      <td>1.000000</td>\n      <td>2.300000e+06</td>\n      <td>158.000000</td>\n      <td>16415.00000</td>\n      <td>3423.000000</td>\n      <td>659.500000</td>\n    </tr>\n    <tr>\n      <th>max</th>\n      <td>560.000000</td>\n      <td>9.800000e+08</td>\n      <td>87986.000000</td>\n      <td>64848.00000</td>\n      <td>5113.000000</td>\n      <td>1145.000000</td>\n    </tr>\n  </tbody>\n</table>\n</div>"
     },
     "metadata": {},
     "execution_count": 14
    }
   ],
   "source": [
    "# Find out mean, median, standard deviation, etc\n",
    "# Data comes from 1990 to 2021\n",
    "privateDf.describe()"
   ]
  },
  {
   "source": [
    "## Data Preparation\n",
    "- In this section, we will check if our data contains null/empty values and fill in empty data with mean values.\n",
    "- We will also convert column data to correct data types."
   ],
   "cell_type": "markdown",
   "metadata": {}
  },
  {
   "source": [
    "# All some fields are empty\n",
    "# In this case, we drop unnecessary columns and fill in missing values\n",
    "privateDf.isnull().sum()"
   ],
   "cell_type": "code",
   "metadata": {},
   "execution_count": 15,
   "outputs": [
    {
     "output_type": "execute_result",
     "data": {
      "text/plain": [
       "S/N                    147\n",
       "Project Name            42\n",
       "Street Name            276\n",
       "Type                   277\n",
       "Postal District        277\n",
       "Market Segment         294\n",
       "Tenure                 298\n",
       "Type of Sale           294\n",
       "No. of Units           294\n",
       "Price ($)              294\n",
       "Nett Price ($)         294\n",
       "Area (Sqm)             512\n",
       "Type of Area           294\n",
       "Floor Level            294\n",
       "Unit Price ($psm)      512\n",
       "Date of Sale           294\n",
       "Area (Sqft)          63678\n",
       "Unit Price ($psf)    63678\n",
       "dtype: int64"
      ]
     },
     "metadata": {},
     "execution_count": 15
    }
   ]
  },
  {
   "cell_type": "code",
   "execution_count": 16,
   "metadata": {},
   "outputs": [
    {
     "output_type": "execute_result",
     "data": {
      "text/plain": [
       "          Type Postal District Market Segment  \\\n",
       "0  Condominium              03            RCR   \n",
       "1  Condominium              04            RCR   \n",
       "2    Apartment              02            CCR   \n",
       "3  Condominium              03            RCR   \n",
       "4  Condominium              05            OCR   \n",
       "\n",
       "                               Tenure Type of Sale  No. of Units  Price ($)  \\\n",
       "0   99 yrs lease commencing from 2012       Resale           1.0  2000000.0   \n",
       "1   99 yrs lease commencing from 1999       Resale           1.0  2300000.0   \n",
       "2   99 yrs lease commencing from 2006       Resale           1.0  1251300.0   \n",
       "3   99 yrs lease commencing from 2008       Resale           1.0  2530000.0   \n",
       "4  956 yrs lease commencing from 1928       Resale           1.0  1150000.0   \n",
       "\n",
       "  Nett Price ($)  Area (Sqm) Type of Area Floor Level  Unit Price ($psm)  \\\n",
       "0              -        93.0       Strata    41 to 45            21505.0   \n",
       "1              -       141.0       Strata    01 to 05            16312.0   \n",
       "2              -        60.0       Strata    36 to 40            20855.0   \n",
       "3              -       169.0       Strata    16 to 20            14970.0   \n",
       "4              -        73.0       Strata    01 to 05            15753.0   \n",
       "\n",
       "  Date of Sale  Area (Sqft)  Unit Price ($psf)  \n",
       "0     May-2021          NaN                NaN  \n",
       "1     May-2021          NaN                NaN  \n",
       "2     May-2021          NaN                NaN  \n",
       "3     May-2021          NaN                NaN  \n",
       "4     May-2021          NaN                NaN  "
      ],
      "text/html": "<div>\n<style scoped>\n    .dataframe tbody tr th:only-of-type {\n        vertical-align: middle;\n    }\n\n    .dataframe tbody tr th {\n        vertical-align: top;\n    }\n\n    .dataframe thead th {\n        text-align: right;\n    }\n</style>\n<table border=\"1\" class=\"dataframe\">\n  <thead>\n    <tr style=\"text-align: right;\">\n      <th></th>\n      <th>Type</th>\n      <th>Postal District</th>\n      <th>Market Segment</th>\n      <th>Tenure</th>\n      <th>Type of Sale</th>\n      <th>No. of Units</th>\n      <th>Price ($)</th>\n      <th>Nett Price ($)</th>\n      <th>Area (Sqm)</th>\n      <th>Type of Area</th>\n      <th>Floor Level</th>\n      <th>Unit Price ($psm)</th>\n      <th>Date of Sale</th>\n      <th>Area (Sqft)</th>\n      <th>Unit Price ($psf)</th>\n    </tr>\n  </thead>\n  <tbody>\n    <tr>\n      <th>0</th>\n      <td>Condominium</td>\n      <td>03</td>\n      <td>RCR</td>\n      <td>99 yrs lease commencing from 2012</td>\n      <td>Resale</td>\n      <td>1.0</td>\n      <td>2000000.0</td>\n      <td>-</td>\n      <td>93.0</td>\n      <td>Strata</td>\n      <td>41 to 45</td>\n      <td>21505.0</td>\n      <td>May-2021</td>\n      <td>NaN</td>\n      <td>NaN</td>\n    </tr>\n    <tr>\n      <th>1</th>\n      <td>Condominium</td>\n      <td>04</td>\n      <td>RCR</td>\n      <td>99 yrs lease commencing from 1999</td>\n      <td>Resale</td>\n      <td>1.0</td>\n      <td>2300000.0</td>\n      <td>-</td>\n      <td>141.0</td>\n      <td>Strata</td>\n      <td>01 to 05</td>\n      <td>16312.0</td>\n      <td>May-2021</td>\n      <td>NaN</td>\n      <td>NaN</td>\n    </tr>\n    <tr>\n      <th>2</th>\n      <td>Apartment</td>\n      <td>02</td>\n      <td>CCR</td>\n      <td>99 yrs lease commencing from 2006</td>\n      <td>Resale</td>\n      <td>1.0</td>\n      <td>1251300.0</td>\n      <td>-</td>\n      <td>60.0</td>\n      <td>Strata</td>\n      <td>36 to 40</td>\n      <td>20855.0</td>\n      <td>May-2021</td>\n      <td>NaN</td>\n      <td>NaN</td>\n    </tr>\n    <tr>\n      <th>3</th>\n      <td>Condominium</td>\n      <td>03</td>\n      <td>RCR</td>\n      <td>99 yrs lease commencing from 2008</td>\n      <td>Resale</td>\n      <td>1.0</td>\n      <td>2530000.0</td>\n      <td>-</td>\n      <td>169.0</td>\n      <td>Strata</td>\n      <td>16 to 20</td>\n      <td>14970.0</td>\n      <td>May-2021</td>\n      <td>NaN</td>\n      <td>NaN</td>\n    </tr>\n    <tr>\n      <th>4</th>\n      <td>Condominium</td>\n      <td>05</td>\n      <td>OCR</td>\n      <td>956 yrs lease commencing from 1928</td>\n      <td>Resale</td>\n      <td>1.0</td>\n      <td>1150000.0</td>\n      <td>-</td>\n      <td>73.0</td>\n      <td>Strata</td>\n      <td>01 to 05</td>\n      <td>15753.0</td>\n      <td>May-2021</td>\n      <td>NaN</td>\n      <td>NaN</td>\n    </tr>\n  </tbody>\n</table>\n</div>"
     },
     "metadata": {},
     "execution_count": 16
    }
   ],
   "source": [
    "# Drop block and street name columns as they are irrelevant\n",
    "privateDf = privateDf.drop(['S/N','Project Name','Street Name'], axis=1)\n",
    "privateDf.head()"
   ]
  },
  {
   "cell_type": "code",
   "execution_count": null,
   "metadata": {},
   "outputs": [],
   "source": []
  },
  {
   "cell_type": "code",
   "execution_count": null,
   "metadata": {},
   "outputs": [],
   "source": []
  },
  {
   "cell_type": "code",
   "execution_count": null,
   "metadata": {},
   "outputs": [],
   "source": []
  },
  {
   "cell_type": "code",
   "execution_count": null,
   "metadata": {},
   "outputs": [],
   "source": []
  },
  {
   "source": [
    "## Training Model - Regression\n",
    "- Prob will decide which algo will fit the best for this project (might try xgboost)\n",
    "- Needs to have validation dataset as well"
   ],
   "cell_type": "markdown",
   "metadata": {}
  },
  {
   "cell_type": "code",
   "execution_count": null,
   "metadata": {},
   "outputs": [],
   "source": [
    "# X contains features\n",
    "X = privateDf.drop(['resale_price'], axis=1)\n",
    "\n",
    "# y contains targets to be predicted\n",
    "y = privateDf['resale_price']\n",
    "\n",
    "# 80% training data and 10% data for each test and validation data\n",
    "X_train, X_testTotal, y_train, y_testTotal = train_test_split(X, y, test_size=0.2, random_state=42, shuffle=True)\n",
    "\n",
    "X_validation, X_test, y_validation, y_test = train_test_split(X_testTotal, y_testTotal, test_size=0.5, random_state=42)"
   ]
  },
  {
   "source": [
    "#### Linear Regression\n",
    "We will use a simple linear regression alogrithm for this section."
   ],
   "cell_type": "markdown",
   "metadata": {}
  },
  {
   "cell_type": "code",
   "execution_count": null,
   "metadata": {},
   "outputs": [],
   "source": [
    "reg = LinearRegression()\n",
    "reg.fit(X_train,y_train)"
   ]
  },
  {
   "cell_type": "code",
   "execution_count": null,
   "metadata": {},
   "outputs": [],
   "source": [
    "mse = mean_absolute_error(y_train, reg.predict(X_train))\n",
    "print(\"Mean Absolute Error on training data: {:.4f}\".format(mse))\n",
    "\n",
    "mse = mean_absolute_error(y_validation, reg.predict(X_validation))\n",
    "print(\"Mean Absolute Error on validation data: {:.4f}\".format(mse))"
   ]
  },
  {
   "source": [
    "#### XGBoost\n",
    "We will be using XGBoost for this section."
   ],
   "cell_type": "markdown",
   "metadata": {}
  },
  {
   "cell_type": "code",
   "execution_count": null,
   "metadata": {},
   "outputs": [],
   "source": []
  },
  {
   "cell_type": "code",
   "execution_count": null,
   "metadata": {},
   "outputs": [],
   "source": []
  }
 ]
}
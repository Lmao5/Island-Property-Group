{
 "metadata": {
  "language_info": {
   "codemirror_mode": {
    "name": "ipython",
    "version": 3
   },
   "file_extension": ".py",
   "mimetype": "text/x-python",
   "name": "python",
   "nbconvert_exporter": "python",
   "pygments_lexer": "ipython3",
   "version": "3.8.5"
  },
  "orig_nbformat": 2,
  "kernelspec": {
   "name": "python385jvsc74a57bd04b0105c984877f841b31b401163318f58b8713fd45d7fedffddf01718db82bbf",
   "display_name": "Python 3.8.5 64-bit (conda)"
  }
 },
 "nbformat": 4,
 "nbformat_minor": 2,
 "cells": [
  {
   "source": [
    "# Private Housing Resale Price Prediction\n",
    "This file is dedicated to predicting private housing resale prices."
   ],
   "cell_type": "markdown",
   "metadata": {}
  },
  {
   "source": [
    "## Data Collection\n",
    "- The following codes below in this section is dedicated to reading and combining csv files into 1 dataframe.\n",
    "- We also import all necessary modules in this section as well."
   ],
   "cell_type": "markdown",
   "metadata": {}
  },
  {
   "cell_type": "code",
   "execution_count": null,
   "metadata": {},
   "outputs": [],
   "source": [
    "# Necessary Imports\n",
    "import numpy as np\n",
    "import pandas as pd\n",
    "import matplotlib.pyplot as plt\n",
    "import seaborn as sns\n",
    "import datetime as dt\n",
    "import datetime\n",
    "import glob\n",
    "\n",
    "from sklearn.model_selection import train_test_split\n",
    "from sklearn.linear_model import LinearRegression\n",
    "from sklearn.preprocessing import OneHotEncoder\n",
    "from sklearn.metrics import *"
   ]
  },
  {
   "cell_type": "code",
   "execution_count": null,
   "metadata": {},
   "outputs": [],
   "source": [
    "# Read csv files for private housing data\n",
    "privateHouseFile = \"../dataset/sale-prediction/private-housing/*.csv\"\n",
    "all_private_sales = glob.glob(privateHouseFile)\n",
    "\n",
    "listOfPrivate = []\n",
    "for filename in all_private_sales:\n",
    "    df = pd.read_csv(filename, skiprows=1)\n",
    "    listOfPrivate.append(df)\n",
    "\n",
    "privateDf = pd.concat(listOfPrivate, axis=0)\n",
    "privateDf.reset_index(drop=True, inplace=True)\n",
    "privateDf.head()"
   ]
  },
  {
   "cell_type": "code",
   "execution_count": null,
   "metadata": {},
   "outputs": [],
   "source": [
    "privateDf.shape"
   ]
  },
  {
   "source": [
    "### Checking data collected"
   ],
   "cell_type": "markdown",
   "metadata": {}
  },
  {
   "cell_type": "code",
   "execution_count": null,
   "metadata": {},
   "outputs": [],
   "source": [
    "privateDf.info()"
   ]
  },
  {
   "cell_type": "code",
   "execution_count": null,
   "metadata": {},
   "outputs": [],
   "source": [
    "privateDf.describe()"
   ]
  },
  {
   "source": [],
   "cell_type": "code",
   "metadata": {},
   "execution_count": null,
   "outputs": []
  },
  {
   "cell_type": "code",
   "execution_count": null,
   "metadata": {},
   "outputs": [],
   "source": []
  },
  {
   "cell_type": "code",
   "execution_count": null,
   "metadata": {},
   "outputs": [],
   "source": []
  },
  {
   "source": [
    "## Training Model - Regression\n",
    "- Prob will decide which algo will fit the best for this project (might try xgboost)\n",
    "- Needs to have validation dataset as well"
   ],
   "cell_type": "markdown",
   "metadata": {}
  },
  {
   "cell_type": "code",
   "execution_count": null,
   "metadata": {},
   "outputs": [],
   "source": [
    "# X contains features\n",
    "X = privateDf.drop(['resale_price'], axis=1)\n",
    "\n",
    "# y contains targets to be predicted\n",
    "y = privateDf['resale_price']\n",
    "\n",
    "# 80% training data and 10% data for each test and validation data\n",
    "X_train, X_testTotal, y_train, y_testTotal = train_test_split(X, y, test_size=0.2, random_state=42, shuffle=True)\n",
    "\n",
    "X_validation, X_test, y_validation, y_test = train_test_split(X_testTotal, y_testTotal, test_size=0.5, random_state=42)"
   ]
  }
 ]
}